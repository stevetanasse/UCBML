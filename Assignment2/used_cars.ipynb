{
  "cells": [
    {
      "cell_type": "markdown",
      "metadata": {
        "id": "HtatJt41hZnS"
      },
      "source": [
        "# What drives the price of a car?\n",
        "\n",
        "![](https://github.com/stevetanasse/UCBML/blob/main/Assignment2/images/kurt.jpeg?raw=1)"
      ]
    },
    {
      "cell_type": "markdown",
      "metadata": {
        "id": "PMmDtVkHhZnU"
      },
      "source": [
        "**OVERVIEW**\n",
        "\n",
        "In this application, you will explore a dataset from Kaggle. The original dataset contained information on 3 million used cars. The provided dataset contains information on 426K cars to ensure speed of processing.  Your goal is to understand what factors make a car more or less expensive.  As a result of your analysis, you should provide clear recommendations to your client -- a used car dealership -- as to what consumers value in a used car."
      ]
    },
    {
      "cell_type": "markdown",
      "metadata": {
        "id": "e8tlSCUWhZnU"
      },
      "source": [
        "### CRISP-DM Framework\n",
        "\n",
        "<center>\n",
        "    <img src = images/crisp.png width = 50%/>\n",
        "</center>\n",
        "\n",
        "\n",
        "To frame the task, throughout our practical applications, we will refer back to a standard process in industry for data projects called CRISP-DM.  This process provides a framework for working through a data problem.  Your first step in this application will be to read through a brief overview of CRISP-DM [here](https://mo-pcco.s3.us-east-1.amazonaws.com/BH-PCMLAI/module_11/readings_starter.zip).  After reading the overview, answer the questions below."
      ]
    },
    {
      "cell_type": "markdown",
      "metadata": {
        "id": "uH6ZBIMLhZnU"
      },
      "source": [
        "### Business Understanding\n",
        "\n",
        "`From a business perspective, we are tasked with identifying key drivers for used car prices.  In the CRISP-DM overview, we are asked to convert this business framing to a data problem definition.  Using a few sentences, reframe the task as a data task with the appropriate technical vocabulary.`"
      ]
    },
    {
      "cell_type": "markdown",
      "source": [
        "To focus the use case for the model, the following assumptions are made about the assignment:\n",
        "* The used car dealership is in the business of buying and selling standard automobiles to consumers. For example, the dealership will not be selling commercial vehicles like 18-wheeler semi trucks or other specialty vehicles like busses, military vehicles, motorcycles, RVs, etc. Nor will the dealerships be selling junked or salvaged vehicles, nor cars \$500 or less. Additionally, they will not be selling specialty cars that exceed \$150,000.\n",
        "\n",
        "* The used car dealership will be selling only automobiles manufactured after 1990, since vehicles older than that will likely either be specialty vehicles and the dataset has less information for these types of vehicles.\n",
        "\n",
        "* The used car dealership will not buy or sell cars where the odometer reports 200,000 or more miles.\n",
        "\n",
        "* The price value in the dataset is understood to be the price at which the vehicle was sold.\n"
      ],
      "metadata": {
        "id": "YpZ7rpKkhffX"
      }
    },
    {
      "cell_type": "markdown",
      "metadata": {
        "id": "NfiPQlBdhZnV"
      },
      "source": [
        "### Data Understanding\n",
        "\n",
        "`After considering the business understanding, we want to get familiar with our data.  Write down some steps that you would take to get to know the dataset and identify any quality issues within.  Take time to get to know the dataset and explore what information it contains and how this could be used to inform your business understanding.`"
      ]
    },
    {
      "cell_type": "markdown",
      "source": [
        "The dataset does not contain a particularly meaningful set of vehicle features. The dataset includes a lot of categorical, free-form and unreliable data, which complicates model development. Additionally, many features in the dataset (e.g., fuel type, transmission, type, etc.) are strongly linked to the vehicle model. The dataset also includes a lot of records for vehicles that are not part of the use case for the used car dealership."
      ],
      "metadata": {
        "id": "bUc7-bV8pejD"
      }
    },
    {
      "cell_type": "markdown",
      "source": [
        "#### Feature Descriptions\n",
        "| column name | description | additional information |\n",
        "| ------------|:-----|:----------|\n",
        "| id  | Vehicle identifier ||\n",
        "| region | Metropolitan area where the car was sold ||\n",
        "| price  | The price at which the vehicle was sold ||\n",
        "| year  | The year the vehicle was manufactured ||\n",
        "| manufacturer  | The manufacturer of the vehicle ||\n",
        "| model  | The vehicle model | Contains free form text and model names are not consistent |\n",
        "| condition  | Subjective condition of the vehicle ||\n",
        "| cylinders  | Categorical information about the number of cylinders ||\n",
        "| fuel  | Fuel type | gas, other, diesel, hybrid, electric |\n",
        "| odometer  | Vehicle mileage ||\n",
        "| title_status  | Vehicle title status | clean, rebuilt, salvage, lien, missing, parts only |\n",
        "| transmission  | Transmission type | automatic, other, manual |\n",
        "| VIN  | Vehicle Identification Number ||\n",
        "| drive  | Drivetrain type  | 4wd, fwd, rwd |\n",
        "| size  | Vehicle Size | full-size, mid-size, compact, sub-compact |\n",
        "| type  | Vehicle category (e.g. sedan, truck, mini-van, etc.) | 13 categories |\n",
        "| paint_color  | Vehicle paint color | 12 color categories |\n",
        "| state  | U.S. state where the vehicle was sold ||"
      ],
      "metadata": {
        "id": "7lBz4qO2QfZ8"
      }
    },
    {
      "cell_type": "code",
      "execution_count": null,
      "metadata": {
        "id": "APBrovBIhZnV"
      },
      "outputs": [],
      "source": [
        "import math\n",
        "import numpy as np\n",
        "import pandas as pd\n",
        "import matplotlib.pyplot as plt\n",
        "import seaborn as sns\n",
        "\n",
        "from sklearn.feature_selection import SequentialFeatureSelector\n",
        "from sklearn.linear_model import Lasso, LinearRegression, Ridge\n",
        "from sklearn.metrics import mean_absolute_error, mean_squared_error\n",
        "from sklearn.model_selection import GridSearchCV, train_test_split\n",
        "from sklearn.pipeline import Pipeline\n",
        "from sklearn.preprocessing import PolynomialFeatures, StandardScaler\n",
        "from random import shuffle, seed"
      ]
    },
    {
      "cell_type": "code",
      "execution_count": null,
      "metadata": {
        "id": "I-zL3N-ahZnW"
      },
      "outputs": [],
      "source": [
        "## google drive\n",
        "# from google.colab import drive\n",
        "# drive.mount('/content/drive')\n",
        "# access can be confirmed by using the magic command for ls:\n",
        "# !ls \"/content/drive/MyDrive/UCB/Assignments/Module11/practical_application_II_starter/data\"\n",
        "# datapath = \"/content/drive/MyDrive/UCB/Assignments/Module11/practical_application_II_starter/data\"\n",
        "# datafilepath = datapath + \"/vehicles.csv\"\n",
        "# vehicles_df = pd.read_csv(datafilepath)"
      ]
    },
    {
      "cell_type": "code",
      "source": [
        "## github\n",
        "url = 'https://raw.githubusercontent.com/stevetanasse/UCBML/refs/heads/main/Assignment2/data/vehicles.csv'\n",
        "vehicles_df = pd.read_csv(url)"
      ],
      "metadata": {
        "id": "I1yIhF1_Xrfl"
      },
      "execution_count": null,
      "outputs": []
    },
    {
      "cell_type": "code",
      "source": [
        "vehicles_df.info()"
      ],
      "metadata": {
        "colab": {
          "base_uri": "https://localhost:8080/"
        },
        "id": "DCdLekt3ljAE",
        "outputId": "0393802b-56a1-4beb-d8bb-868bf3ea8735"
      },
      "execution_count": null,
      "outputs": [
        {
          "output_type": "stream",
          "name": "stdout",
          "text": [
            "<class 'pandas.core.frame.DataFrame'>\n",
            "RangeIndex: 426880 entries, 0 to 426879\n",
            "Data columns (total 18 columns):\n",
            " #   Column        Non-Null Count   Dtype  \n",
            "---  ------        --------------   -----  \n",
            " 0   id            426880 non-null  int64  \n",
            " 1   region        426880 non-null  object \n",
            " 2   price         426880 non-null  int64  \n",
            " 3   year          425675 non-null  float64\n",
            " 4   manufacturer  409234 non-null  object \n",
            " 5   model         421603 non-null  object \n",
            " 6   condition     252776 non-null  object \n",
            " 7   cylinders     249202 non-null  object \n",
            " 8   fuel          423867 non-null  object \n",
            " 9   odometer      422480 non-null  float64\n",
            " 10  title_status  418638 non-null  object \n",
            " 11  transmission  424324 non-null  object \n",
            " 12  VIN           265838 non-null  object \n",
            " 13  drive         296313 non-null  object \n",
            " 14  size          120519 non-null  object \n",
            " 15  type          334022 non-null  object \n",
            " 16  paint_color   296677 non-null  object \n",
            " 17  state         426880 non-null  object \n",
            "dtypes: float64(2), int64(2), object(14)\n",
            "memory usage: 58.6+ MB\n"
          ]
        }
      ]
    },
    {
      "cell_type": "code",
      "source": [
        "vehicles_df.describe().style.format(\"{:.2f}\")"
      ],
      "metadata": {
        "colab": {
          "base_uri": "https://localhost:8080/",
          "height": 300
        },
        "id": "05nYlwObLQKz",
        "outputId": "7fa865c6-f910-4445-c540-1f922680178a"
      },
      "execution_count": null,
      "outputs": [
        {
          "output_type": "execute_result",
          "data": {
            "text/plain": [
              "<pandas.io.formats.style.Styler at 0x78f250109890>"
            ],
            "text/html": [
              "<style type=\"text/css\">\n",
              "</style>\n",
              "<table id=\"T_52c19\" class=\"dataframe\">\n",
              "  <thead>\n",
              "    <tr>\n",
              "      <th class=\"blank level0\" >&nbsp;</th>\n",
              "      <th id=\"T_52c19_level0_col0\" class=\"col_heading level0 col0\" >id</th>\n",
              "      <th id=\"T_52c19_level0_col1\" class=\"col_heading level0 col1\" >price</th>\n",
              "      <th id=\"T_52c19_level0_col2\" class=\"col_heading level0 col2\" >year</th>\n",
              "      <th id=\"T_52c19_level0_col3\" class=\"col_heading level0 col3\" >odometer</th>\n",
              "    </tr>\n",
              "  </thead>\n",
              "  <tbody>\n",
              "    <tr>\n",
              "      <th id=\"T_52c19_level0_row0\" class=\"row_heading level0 row0\" >count</th>\n",
              "      <td id=\"T_52c19_row0_col0\" class=\"data row0 col0\" >426880.00</td>\n",
              "      <td id=\"T_52c19_row0_col1\" class=\"data row0 col1\" >426880.00</td>\n",
              "      <td id=\"T_52c19_row0_col2\" class=\"data row0 col2\" >425675.00</td>\n",
              "      <td id=\"T_52c19_row0_col3\" class=\"data row0 col3\" >422480.00</td>\n",
              "    </tr>\n",
              "    <tr>\n",
              "      <th id=\"T_52c19_level0_row1\" class=\"row_heading level0 row1\" >mean</th>\n",
              "      <td id=\"T_52c19_row1_col0\" class=\"data row1 col0\" >7311486634.22</td>\n",
              "      <td id=\"T_52c19_row1_col1\" class=\"data row1 col1\" >75199.03</td>\n",
              "      <td id=\"T_52c19_row1_col2\" class=\"data row1 col2\" >2011.24</td>\n",
              "      <td id=\"T_52c19_row1_col3\" class=\"data row1 col3\" >98043.33</td>\n",
              "    </tr>\n",
              "    <tr>\n",
              "      <th id=\"T_52c19_level0_row2\" class=\"row_heading level0 row2\" >std</th>\n",
              "      <td id=\"T_52c19_row2_col0\" class=\"data row2 col0\" >4473170.41</td>\n",
              "      <td id=\"T_52c19_row2_col1\" class=\"data row2 col1\" >12182282.17</td>\n",
              "      <td id=\"T_52c19_row2_col2\" class=\"data row2 col2\" >9.45</td>\n",
              "      <td id=\"T_52c19_row2_col3\" class=\"data row2 col3\" >213881.50</td>\n",
              "    </tr>\n",
              "    <tr>\n",
              "      <th id=\"T_52c19_level0_row3\" class=\"row_heading level0 row3\" >min</th>\n",
              "      <td id=\"T_52c19_row3_col0\" class=\"data row3 col0\" >7207408119.00</td>\n",
              "      <td id=\"T_52c19_row3_col1\" class=\"data row3 col1\" >0.00</td>\n",
              "      <td id=\"T_52c19_row3_col2\" class=\"data row3 col2\" >1900.00</td>\n",
              "      <td id=\"T_52c19_row3_col3\" class=\"data row3 col3\" >0.00</td>\n",
              "    </tr>\n",
              "    <tr>\n",
              "      <th id=\"T_52c19_level0_row4\" class=\"row_heading level0 row4\" >25%</th>\n",
              "      <td id=\"T_52c19_row4_col0\" class=\"data row4 col0\" >7308143339.25</td>\n",
              "      <td id=\"T_52c19_row4_col1\" class=\"data row4 col1\" >5900.00</td>\n",
              "      <td id=\"T_52c19_row4_col2\" class=\"data row4 col2\" >2008.00</td>\n",
              "      <td id=\"T_52c19_row4_col3\" class=\"data row4 col3\" >37704.00</td>\n",
              "    </tr>\n",
              "    <tr>\n",
              "      <th id=\"T_52c19_level0_row5\" class=\"row_heading level0 row5\" >50%</th>\n",
              "      <td id=\"T_52c19_row5_col0\" class=\"data row5 col0\" >7312620821.00</td>\n",
              "      <td id=\"T_52c19_row5_col1\" class=\"data row5 col1\" >13950.00</td>\n",
              "      <td id=\"T_52c19_row5_col2\" class=\"data row5 col2\" >2013.00</td>\n",
              "      <td id=\"T_52c19_row5_col3\" class=\"data row5 col3\" >85548.00</td>\n",
              "    </tr>\n",
              "    <tr>\n",
              "      <th id=\"T_52c19_level0_row6\" class=\"row_heading level0 row6\" >75%</th>\n",
              "      <td id=\"T_52c19_row6_col0\" class=\"data row6 col0\" >7315253543.50</td>\n",
              "      <td id=\"T_52c19_row6_col1\" class=\"data row6 col1\" >26485.75</td>\n",
              "      <td id=\"T_52c19_row6_col2\" class=\"data row6 col2\" >2017.00</td>\n",
              "      <td id=\"T_52c19_row6_col3\" class=\"data row6 col3\" >133542.50</td>\n",
              "    </tr>\n",
              "    <tr>\n",
              "      <th id=\"T_52c19_level0_row7\" class=\"row_heading level0 row7\" >max</th>\n",
              "      <td id=\"T_52c19_row7_col0\" class=\"data row7 col0\" >7317101084.00</td>\n",
              "      <td id=\"T_52c19_row7_col1\" class=\"data row7 col1\" >3736928711.00</td>\n",
              "      <td id=\"T_52c19_row7_col2\" class=\"data row7 col2\" >2022.00</td>\n",
              "      <td id=\"T_52c19_row7_col3\" class=\"data row7 col3\" >10000000.00</td>\n",
              "    </tr>\n",
              "  </tbody>\n",
              "</table>\n"
            ]
          },
          "metadata": {},
          "execution_count": 20
        }
      ]
    },
    {
      "cell_type": "code",
      "source": [
        "def get_nan_stats(dataframe):\n",
        "  nan_stats_df = pd.DataFrame(dataframe.isnull().sum(), columns=['count'])\n",
        "  nan_stats_df['percentage'] = round((nan_stats_df['count'] * 100)/ dataframe.shape[0], 2)\n",
        "\n",
        "  return nan_stats_df"
      ],
      "metadata": {
        "id": "AeZe9GagTiOy"
      },
      "execution_count": null,
      "outputs": []
    },
    {
      "cell_type": "code",
      "source": [
        "nan_stats_df = get_nan_stats(vehicles_df)\n",
        "nan_stats_df"
      ],
      "metadata": {
        "colab": {
          "base_uri": "https://localhost:8080/",
          "height": 613
        },
        "id": "z-TSw0rrGX5U",
        "outputId": "3b22c30a-ae4c-424b-f0d5-3decaf729675"
      },
      "execution_count": null,
      "outputs": [
        {
          "output_type": "execute_result",
          "data": {
            "text/plain": [
              "               count  percentage\n",
              "id                 0        0.00\n",
              "region             0        0.00\n",
              "price              0        0.00\n",
              "year            1205        0.28\n",
              "manufacturer   17646        4.13\n",
              "model           5277        1.24\n",
              "condition     174104       40.79\n",
              "cylinders     177678       41.62\n",
              "fuel            3013        0.71\n",
              "odometer        4400        1.03\n",
              "title_status    8242        1.93\n",
              "transmission    2556        0.60\n",
              "VIN           161042       37.73\n",
              "drive         130567       30.59\n",
              "size          306361       71.77\n",
              "type           92858       21.75\n",
              "paint_color   130203       30.50\n",
              "state              0        0.00"
            ],
            "text/html": [
              "\n",
              "  <div id=\"df-d44755f5-277d-4fd8-9653-139051bbab7c\" class=\"colab-df-container\">\n",
              "    <div>\n",
              "<style scoped>\n",
              "    .dataframe tbody tr th:only-of-type {\n",
              "        vertical-align: middle;\n",
              "    }\n",
              "\n",
              "    .dataframe tbody tr th {\n",
              "        vertical-align: top;\n",
              "    }\n",
              "\n",
              "    .dataframe thead th {\n",
              "        text-align: right;\n",
              "    }\n",
              "</style>\n",
              "<table border=\"1\" class=\"dataframe\">\n",
              "  <thead>\n",
              "    <tr style=\"text-align: right;\">\n",
              "      <th></th>\n",
              "      <th>count</th>\n",
              "      <th>percentage</th>\n",
              "    </tr>\n",
              "  </thead>\n",
              "  <tbody>\n",
              "    <tr>\n",
              "      <th>id</th>\n",
              "      <td>0</td>\n",
              "      <td>0.00</td>\n",
              "    </tr>\n",
              "    <tr>\n",
              "      <th>region</th>\n",
              "      <td>0</td>\n",
              "      <td>0.00</td>\n",
              "    </tr>\n",
              "    <tr>\n",
              "      <th>price</th>\n",
              "      <td>0</td>\n",
              "      <td>0.00</td>\n",
              "    </tr>\n",
              "    <tr>\n",
              "      <th>year</th>\n",
              "      <td>1205</td>\n",
              "      <td>0.28</td>\n",
              "    </tr>\n",
              "    <tr>\n",
              "      <th>manufacturer</th>\n",
              "      <td>17646</td>\n",
              "      <td>4.13</td>\n",
              "    </tr>\n",
              "    <tr>\n",
              "      <th>model</th>\n",
              "      <td>5277</td>\n",
              "      <td>1.24</td>\n",
              "    </tr>\n",
              "    <tr>\n",
              "      <th>condition</th>\n",
              "      <td>174104</td>\n",
              "      <td>40.79</td>\n",
              "    </tr>\n",
              "    <tr>\n",
              "      <th>cylinders</th>\n",
              "      <td>177678</td>\n",
              "      <td>41.62</td>\n",
              "    </tr>\n",
              "    <tr>\n",
              "      <th>fuel</th>\n",
              "      <td>3013</td>\n",
              "      <td>0.71</td>\n",
              "    </tr>\n",
              "    <tr>\n",
              "      <th>odometer</th>\n",
              "      <td>4400</td>\n",
              "      <td>1.03</td>\n",
              "    </tr>\n",
              "    <tr>\n",
              "      <th>title_status</th>\n",
              "      <td>8242</td>\n",
              "      <td>1.93</td>\n",
              "    </tr>\n",
              "    <tr>\n",
              "      <th>transmission</th>\n",
              "      <td>2556</td>\n",
              "      <td>0.60</td>\n",
              "    </tr>\n",
              "    <tr>\n",
              "      <th>VIN</th>\n",
              "      <td>161042</td>\n",
              "      <td>37.73</td>\n",
              "    </tr>\n",
              "    <tr>\n",
              "      <th>drive</th>\n",
              "      <td>130567</td>\n",
              "      <td>30.59</td>\n",
              "    </tr>\n",
              "    <tr>\n",
              "      <th>size</th>\n",
              "      <td>306361</td>\n",
              "      <td>71.77</td>\n",
              "    </tr>\n",
              "    <tr>\n",
              "      <th>type</th>\n",
              "      <td>92858</td>\n",
              "      <td>21.75</td>\n",
              "    </tr>\n",
              "    <tr>\n",
              "      <th>paint_color</th>\n",
              "      <td>130203</td>\n",
              "      <td>30.50</td>\n",
              "    </tr>\n",
              "    <tr>\n",
              "      <th>state</th>\n",
              "      <td>0</td>\n",
              "      <td>0.00</td>\n",
              "    </tr>\n",
              "  </tbody>\n",
              "</table>\n",
              "</div>\n",
              "    <div class=\"colab-df-buttons\">\n",
              "\n",
              "  <div class=\"colab-df-container\">\n",
              "    <button class=\"colab-df-convert\" onclick=\"convertToInteractive('df-d44755f5-277d-4fd8-9653-139051bbab7c')\"\n",
              "            title=\"Convert this dataframe to an interactive table.\"\n",
              "            style=\"display:none;\">\n",
              "\n",
              "  <svg xmlns=\"http://www.w3.org/2000/svg\" height=\"24px\" viewBox=\"0 -960 960 960\">\n",
              "    <path d=\"M120-120v-720h720v720H120Zm60-500h600v-160H180v160Zm220 220h160v-160H400v160Zm0 220h160v-160H400v160ZM180-400h160v-160H180v160Zm440 0h160v-160H620v160ZM180-180h160v-160H180v160Zm440 0h160v-160H620v160Z\"/>\n",
              "  </svg>\n",
              "    </button>\n",
              "\n",
              "  <style>\n",
              "    .colab-df-container {\n",
              "      display:flex;\n",
              "      gap: 12px;\n",
              "    }\n",
              "\n",
              "    .colab-df-convert {\n",
              "      background-color: #E8F0FE;\n",
              "      border: none;\n",
              "      border-radius: 50%;\n",
              "      cursor: pointer;\n",
              "      display: none;\n",
              "      fill: #1967D2;\n",
              "      height: 32px;\n",
              "      padding: 0 0 0 0;\n",
              "      width: 32px;\n",
              "    }\n",
              "\n",
              "    .colab-df-convert:hover {\n",
              "      background-color: #E2EBFA;\n",
              "      box-shadow: 0px 1px 2px rgba(60, 64, 67, 0.3), 0px 1px 3px 1px rgba(60, 64, 67, 0.15);\n",
              "      fill: #174EA6;\n",
              "    }\n",
              "\n",
              "    .colab-df-buttons div {\n",
              "      margin-bottom: 4px;\n",
              "    }\n",
              "\n",
              "    [theme=dark] .colab-df-convert {\n",
              "      background-color: #3B4455;\n",
              "      fill: #D2E3FC;\n",
              "    }\n",
              "\n",
              "    [theme=dark] .colab-df-convert:hover {\n",
              "      background-color: #434B5C;\n",
              "      box-shadow: 0px 1px 3px 1px rgba(0, 0, 0, 0.15);\n",
              "      filter: drop-shadow(0px 1px 2px rgba(0, 0, 0, 0.3));\n",
              "      fill: #FFFFFF;\n",
              "    }\n",
              "  </style>\n",
              "\n",
              "    <script>\n",
              "      const buttonEl =\n",
              "        document.querySelector('#df-d44755f5-277d-4fd8-9653-139051bbab7c button.colab-df-convert');\n",
              "      buttonEl.style.display =\n",
              "        google.colab.kernel.accessAllowed ? 'block' : 'none';\n",
              "\n",
              "      async function convertToInteractive(key) {\n",
              "        const element = document.querySelector('#df-d44755f5-277d-4fd8-9653-139051bbab7c');\n",
              "        const dataTable =\n",
              "          await google.colab.kernel.invokeFunction('convertToInteractive',\n",
              "                                                    [key], {});\n",
              "        if (!dataTable) return;\n",
              "\n",
              "        const docLinkHtml = 'Like what you see? Visit the ' +\n",
              "          '<a target=\"_blank\" href=https://colab.research.google.com/notebooks/data_table.ipynb>data table notebook</a>'\n",
              "          + ' to learn more about interactive tables.';\n",
              "        element.innerHTML = '';\n",
              "        dataTable['output_type'] = 'display_data';\n",
              "        await google.colab.output.renderOutput(dataTable, element);\n",
              "        const docLink = document.createElement('div');\n",
              "        docLink.innerHTML = docLinkHtml;\n",
              "        element.appendChild(docLink);\n",
              "      }\n",
              "    </script>\n",
              "  </div>\n",
              "\n",
              "\n",
              "<div id=\"df-549e5e23-57b3-4aee-b5d6-e6f68913c7eb\">\n",
              "  <button class=\"colab-df-quickchart\" onclick=\"quickchart('df-549e5e23-57b3-4aee-b5d6-e6f68913c7eb')\"\n",
              "            title=\"Suggest charts\"\n",
              "            style=\"display:none;\">\n",
              "\n",
              "<svg xmlns=\"http://www.w3.org/2000/svg\" height=\"24px\"viewBox=\"0 0 24 24\"\n",
              "     width=\"24px\">\n",
              "    <g>\n",
              "        <path d=\"M19 3H5c-1.1 0-2 .9-2 2v14c0 1.1.9 2 2 2h14c1.1 0 2-.9 2-2V5c0-1.1-.9-2-2-2zM9 17H7v-7h2v7zm4 0h-2V7h2v10zm4 0h-2v-4h2v4z\"/>\n",
              "    </g>\n",
              "</svg>\n",
              "  </button>\n",
              "\n",
              "<style>\n",
              "  .colab-df-quickchart {\n",
              "      --bg-color: #E8F0FE;\n",
              "      --fill-color: #1967D2;\n",
              "      --hover-bg-color: #E2EBFA;\n",
              "      --hover-fill-color: #174EA6;\n",
              "      --disabled-fill-color: #AAA;\n",
              "      --disabled-bg-color: #DDD;\n",
              "  }\n",
              "\n",
              "  [theme=dark] .colab-df-quickchart {\n",
              "      --bg-color: #3B4455;\n",
              "      --fill-color: #D2E3FC;\n",
              "      --hover-bg-color: #434B5C;\n",
              "      --hover-fill-color: #FFFFFF;\n",
              "      --disabled-bg-color: #3B4455;\n",
              "      --disabled-fill-color: #666;\n",
              "  }\n",
              "\n",
              "  .colab-df-quickchart {\n",
              "    background-color: var(--bg-color);\n",
              "    border: none;\n",
              "    border-radius: 50%;\n",
              "    cursor: pointer;\n",
              "    display: none;\n",
              "    fill: var(--fill-color);\n",
              "    height: 32px;\n",
              "    padding: 0;\n",
              "    width: 32px;\n",
              "  }\n",
              "\n",
              "  .colab-df-quickchart:hover {\n",
              "    background-color: var(--hover-bg-color);\n",
              "    box-shadow: 0 1px 2px rgba(60, 64, 67, 0.3), 0 1px 3px 1px rgba(60, 64, 67, 0.15);\n",
              "    fill: var(--button-hover-fill-color);\n",
              "  }\n",
              "\n",
              "  .colab-df-quickchart-complete:disabled,\n",
              "  .colab-df-quickchart-complete:disabled:hover {\n",
              "    background-color: var(--disabled-bg-color);\n",
              "    fill: var(--disabled-fill-color);\n",
              "    box-shadow: none;\n",
              "  }\n",
              "\n",
              "  .colab-df-spinner {\n",
              "    border: 2px solid var(--fill-color);\n",
              "    border-color: transparent;\n",
              "    border-bottom-color: var(--fill-color);\n",
              "    animation:\n",
              "      spin 1s steps(1) infinite;\n",
              "  }\n",
              "\n",
              "  @keyframes spin {\n",
              "    0% {\n",
              "      border-color: transparent;\n",
              "      border-bottom-color: var(--fill-color);\n",
              "      border-left-color: var(--fill-color);\n",
              "    }\n",
              "    20% {\n",
              "      border-color: transparent;\n",
              "      border-left-color: var(--fill-color);\n",
              "      border-top-color: var(--fill-color);\n",
              "    }\n",
              "    30% {\n",
              "      border-color: transparent;\n",
              "      border-left-color: var(--fill-color);\n",
              "      border-top-color: var(--fill-color);\n",
              "      border-right-color: var(--fill-color);\n",
              "    }\n",
              "    40% {\n",
              "      border-color: transparent;\n",
              "      border-right-color: var(--fill-color);\n",
              "      border-top-color: var(--fill-color);\n",
              "    }\n",
              "    60% {\n",
              "      border-color: transparent;\n",
              "      border-right-color: var(--fill-color);\n",
              "    }\n",
              "    80% {\n",
              "      border-color: transparent;\n",
              "      border-right-color: var(--fill-color);\n",
              "      border-bottom-color: var(--fill-color);\n",
              "    }\n",
              "    90% {\n",
              "      border-color: transparent;\n",
              "      border-bottom-color: var(--fill-color);\n",
              "    }\n",
              "  }\n",
              "</style>\n",
              "\n",
              "  <script>\n",
              "    async function quickchart(key) {\n",
              "      const quickchartButtonEl =\n",
              "        document.querySelector('#' + key + ' button');\n",
              "      quickchartButtonEl.disabled = true;  // To prevent multiple clicks.\n",
              "      quickchartButtonEl.classList.add('colab-df-spinner');\n",
              "      try {\n",
              "        const charts = await google.colab.kernel.invokeFunction(\n",
              "            'suggestCharts', [key], {});\n",
              "      } catch (error) {\n",
              "        console.error('Error during call to suggestCharts:', error);\n",
              "      }\n",
              "      quickchartButtonEl.classList.remove('colab-df-spinner');\n",
              "      quickchartButtonEl.classList.add('colab-df-quickchart-complete');\n",
              "    }\n",
              "    (() => {\n",
              "      let quickchartButtonEl =\n",
              "        document.querySelector('#df-549e5e23-57b3-4aee-b5d6-e6f68913c7eb button');\n",
              "      quickchartButtonEl.style.display =\n",
              "        google.colab.kernel.accessAllowed ? 'block' : 'none';\n",
              "    })();\n",
              "  </script>\n",
              "</div>\n",
              "\n",
              "  <div id=\"id_806224dd-9f27-45fe-8b7c-9ae66c6bb160\">\n",
              "    <style>\n",
              "      .colab-df-generate {\n",
              "        background-color: #E8F0FE;\n",
              "        border: none;\n",
              "        border-radius: 50%;\n",
              "        cursor: pointer;\n",
              "        display: none;\n",
              "        fill: #1967D2;\n",
              "        height: 32px;\n",
              "        padding: 0 0 0 0;\n",
              "        width: 32px;\n",
              "      }\n",
              "\n",
              "      .colab-df-generate:hover {\n",
              "        background-color: #E2EBFA;\n",
              "        box-shadow: 0px 1px 2px rgba(60, 64, 67, 0.3), 0px 1px 3px 1px rgba(60, 64, 67, 0.15);\n",
              "        fill: #174EA6;\n",
              "      }\n",
              "\n",
              "      [theme=dark] .colab-df-generate {\n",
              "        background-color: #3B4455;\n",
              "        fill: #D2E3FC;\n",
              "      }\n",
              "\n",
              "      [theme=dark] .colab-df-generate:hover {\n",
              "        background-color: #434B5C;\n",
              "        box-shadow: 0px 1px 3px 1px rgba(0, 0, 0, 0.15);\n",
              "        filter: drop-shadow(0px 1px 2px rgba(0, 0, 0, 0.3));\n",
              "        fill: #FFFFFF;\n",
              "      }\n",
              "    </style>\n",
              "    <button class=\"colab-df-generate\" onclick=\"generateWithVariable('nan_stats_df')\"\n",
              "            title=\"Generate code using this dataframe.\"\n",
              "            style=\"display:none;\">\n",
              "\n",
              "  <svg xmlns=\"http://www.w3.org/2000/svg\" height=\"24px\"viewBox=\"0 0 24 24\"\n",
              "       width=\"24px\">\n",
              "    <path d=\"M7,19H8.4L18.45,9,17,7.55,7,17.6ZM5,21V16.75L18.45,3.32a2,2,0,0,1,2.83,0l1.4,1.43a1.91,1.91,0,0,1,.58,1.4,1.91,1.91,0,0,1-.58,1.4L9.25,21ZM18.45,9,17,7.55Zm-12,3A5.31,5.31,0,0,0,4.9,8.1,5.31,5.31,0,0,0,1,6.5,5.31,5.31,0,0,0,4.9,4.9,5.31,5.31,0,0,0,6.5,1,5.31,5.31,0,0,0,8.1,4.9,5.31,5.31,0,0,0,12,6.5,5.46,5.46,0,0,0,6.5,12Z\"/>\n",
              "  </svg>\n",
              "    </button>\n",
              "    <script>\n",
              "      (() => {\n",
              "      const buttonEl =\n",
              "        document.querySelector('#id_806224dd-9f27-45fe-8b7c-9ae66c6bb160 button.colab-df-generate');\n",
              "      buttonEl.style.display =\n",
              "        google.colab.kernel.accessAllowed ? 'block' : 'none';\n",
              "\n",
              "      buttonEl.onclick = () => {\n",
              "        google.colab.notebook.generateWithVariable('nan_stats_df');\n",
              "      }\n",
              "      })();\n",
              "    </script>\n",
              "  </div>\n",
              "\n",
              "    </div>\n",
              "  </div>\n"
            ],
            "application/vnd.google.colaboratory.intrinsic+json": {
              "type": "dataframe",
              "variable_name": "nan_stats_df",
              "summary": "{\n  \"name\": \"nan_stats_df\",\n  \"rows\": 18,\n  \"fields\": [\n    {\n      \"column\": \"count\",\n      \"properties\": {\n        \"dtype\": \"number\",\n        \"std\": 91621,\n        \"min\": 0,\n        \"max\": 306361,\n        \"num_unique_values\": 15,\n        \"samples\": [\n          2556,\n          130567,\n          0\n        ],\n        \"semantic_type\": \"\",\n        \"description\": \"\"\n      }\n    },\n    {\n      \"column\": \"percentage\",\n      \"properties\": {\n        \"dtype\": \"number\",\n        \"std\": 21.463870669514552,\n        \"min\": 0.0,\n        \"max\": 71.77,\n        \"num_unique_values\": 15,\n        \"samples\": [\n          0.6,\n          30.59,\n          0.0\n        ],\n        \"semantic_type\": \"\",\n        \"description\": \"\"\n      }\n    }\n  ]\n}"
            }
          },
          "metadata": {},
          "execution_count": 22
        }
      ]
    },
    {
      "cell_type": "code",
      "source": [
        "def get_string_of_column_values(dataframe, column_name):\n",
        "  series = dataframe[column_name].value_counts()\n",
        "\n",
        "  column_values = ''\n",
        "  for index, value in zip(series.index, series.values):\n",
        "    column_values += str(index) + \", \"\n",
        "\n",
        "  return column_values[:-2] if len(column_values) >= 2 else column_values\n",
        "\n",
        "\n",
        "def print_column_value_counts(dataframe, threshold = 16):\n",
        "  for column_index in range(len(dataframe.columns)):\n",
        "    column_name = dataframe.columns[column_index]\n",
        "    value_counts = len(dataframe[column_name].value_counts())\n",
        "\n",
        "    # print the column values if the number is limited\n",
        "    column_values = \"\"\n",
        "    if value_counts < threshold:\n",
        "      column_values = get_string_of_column_values(dataframe, column_name)\n",
        "\n",
        "    print(str(column_index) + \": \" + column_name + \": \" + str(value_counts) + \" values: \" + column_values)"
      ],
      "metadata": {
        "id": "EBOAF54CC8Ai"
      },
      "execution_count": null,
      "outputs": []
    },
    {
      "cell_type": "code",
      "source": [
        "print_column_value_counts(vehicles_df)"
      ],
      "metadata": {
        "colab": {
          "base_uri": "https://localhost:8080/"
        },
        "id": "n4DgUoXt6GBr",
        "outputId": "9254c3f1-8b7c-42f7-e842-fc9d42baa4f9"
      },
      "execution_count": null,
      "outputs": [
        {
          "output_type": "stream",
          "name": "stdout",
          "text": [
            "0: id: 426880 values: \n",
            "1: region: 404 values: \n",
            "2: price: 15655 values: \n",
            "3: year: 114 values: \n",
            "4: manufacturer: 42 values: \n",
            "5: model: 29649 values: \n",
            "6: condition: 6 values: good, excellent, like new, fair, new, salvage\n",
            "7: cylinders: 8 values: 6 cylinders, 4 cylinders, 8 cylinders, 5 cylinders, 10 cylinders, other, 3 cylinders, 12 cylinders\n",
            "8: fuel: 5 values: gas, other, diesel, hybrid, electric\n",
            "9: odometer: 104870 values: \n",
            "10: title_status: 6 values: clean, rebuilt, salvage, lien, missing, parts only\n",
            "11: transmission: 3 values: automatic, other, manual\n",
            "12: VIN: 118246 values: \n",
            "13: drive: 3 values: 4wd, fwd, rwd\n",
            "14: size: 4 values: full-size, mid-size, compact, sub-compact\n",
            "15: type: 13 values: sedan, SUV, pickup, truck, other, coupe, hatchback, wagon, van, convertible, mini-van, offroad, bus\n",
            "16: paint_color: 12 values: white, black, silver, blue, red, grey, green, custom, brown, yellow, orange, purple\n",
            "17: state: 51 values: \n"
          ]
        }
      ]
    },
    {
      "cell_type": "code",
      "source": [
        "year_counts = vehicles_df['year'].value_counts().sort_index()\n",
        "plt.figure(figsize=(4,3))\n",
        "plt.bar(year_counts.index, year_counts.values)\n",
        "plt.xlabel('Year')\n",
        "plt.ylabel('Count')\n",
        "plt.title('Automobiles by Year')\n",
        "plt.show()"
      ],
      "metadata": {
        "colab": {
          "base_uri": "https://localhost:8080/",
          "height": 333
        },
        "id": "4ev_9wL0DhgJ",
        "outputId": "1ac6f6db-7f97-4d7c-af7c-29b4fca72960"
      },
      "execution_count": null,
      "outputs": [
        {
          "output_type": "display_data",
          "data": {
            "text/plain": [
              "<Figure size 400x300 with 1 Axes>"
            ],
            "image/png": "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\n"
          },
          "metadata": {}
        }
      ]
    },
    {
      "cell_type": "markdown",
      "metadata": {
        "id": "bY1nBVNLhZnW"
      },
      "source": [
        "### Data Preparation\n",
        "\n",
        "`After our initial exploration and fine-tuning of the business understanding, it is time to construct our final dataset prior to modeling.  Here, we want to make sure to handle any integrity issues and cleaning, the engineering of new features, any transformations that we believe should happen (scaling, logarithms, normalization, etc.), and general preparation for modeling with sklearn.`"
      ]
    },
    {
      "cell_type": "markdown",
      "source": [
        "Data Preparation involves processing NaN values by either excluding rows, deleting columns or imputing the missing values. Many of the features of the dataset correlate with the vehicle model so those columns can be excluded. The business use case provides guidance to exclude vehicles that have certain characteristics a non-valid title, or were manufactured before 1990.\n",
        "\n",
        "The resulting features in the model are odometer, age, and brand_value. The odometer value as in the dataset. The age feature is the year value from the dataset subtracted from 2024. The brand_value is the mean price value of all vehicles that match the brand and model values in the dataset."
      ],
      "metadata": {
        "id": "6os9fu5AOW-C"
      }
    },
    {
      "cell_type": "markdown",
      "source": [
        "#### NaN Processing Actions\n",
        "| column name | NaN count | NaN percentage |  action | justification |\n",
        "| ------------|------:| ----------:|---------|---------------|\n",
        "| id  | 0 | 0.00 | | |\n",
        "| region | 0 | 0.00 |  | |\n",
        "| price  | 0 | 0.00 | | |\n",
        "| year  | 1205 | 0.28 | Drop all rows where 'year' == NaN | Small number of rows are missing year values. year value is critical information |\n",
        "| manufacturer  | 17646 | 4.13 | Copy first non-numeric word from 'model' column into 'manufacturer' column | Many manufacturer values start with model information |  \n",
        "| model  | 5277 | 1.24 | Drop all rows where 'model' and 'cylinders' == NaN <br/> Impute remaining NaN values with the most common model from manufacturer | Many rows missing model information are also missing other column data |\n",
        "| condition  | 174104 | 40.79 | Drop 'condition' column | Large portion of condition data is missing, is subjective and it cannot be reconstructed from existing data |  \n",
        "| cylinders  | 177678 | 41.62 |Drop 'cyclinder' column |'cyclinder' information is already captured by 'model' |\n",
        "| fuel  | 3013 | 0.71 | Drop 'fuel' column | 'fuel' information is already captured by 'model' |\n",
        "| odometer  | 4400 | 1.03 | Drop all rows where 'odometer' == NaN | Small number of rows are missing odometer values. Odometer is critical information |\n",
        "| title_status  | 8242 | 1.93 |Drop 'title_status' | 'title' status is low variance information and isn't required according to the business use case assumptions |\n",
        "| transmission  | 2556 | 0.60 | Drop 'transmission' column | 'transmission' information is already captured by 'model' |\n",
        "| VIN  | 161042 | 37.73 | Drop 'VIN' column | VIN is an identifier and not a feature of the automobile |\n",
        "| drive  | 130567 | 30.59 | Drop 'transmission' column | 'drive' information is already captured by 'model' |\n",
        "| size  | 306361 | 71.77 | Drop 'size' column | Large portion of size data is missing|\n",
        "| type  | 92858 | 21.75 | Drop 'type' column | 'type' information is already captured by 'model' |\n",
        "| paint_color  | 130203 | 30.50 | Drop 'paint_color' column | 'paint_color' is subjective and not consistent accross manufactures. A large portion of the data is missing |\n",
        "| state  | 0 | 0.00  | | |"
      ],
      "metadata": {
        "id": "xwpa1358G3lz"
      }
    },
    {
      "cell_type": "code",
      "source": [
        "def exclude_non_standard_vehicles(dataframe):\n",
        "  min_year = float(1990)\n",
        "  excluded_title_status = ['salvage', 'parts only', 'missing', 'lien']\n",
        "  excluded_condition_status = ['salvage']\n",
        "  min_price = float(500)\n",
        "  max_price = float(150000)\n",
        "  max_odometer = float(200000)\n",
        "\n",
        "  standard_vehicles_df = dataframe[dataframe['year'] >= min_year]\n",
        "  standard_vehicles_df = standard_vehicles_df[(standard_vehicles_df['price'].between(min_price, max_price))]\n",
        "  standard_vehicles_df = standard_vehicles_df[standard_vehicles_df['odometer'] < max_odometer]\n",
        "  standard_vehicles_df = standard_vehicles_df[~standard_vehicles_df['title_status'].isin(excluded_title_status)]\n",
        "  standard_vehicles_df = standard_vehicles_df[~standard_vehicles_df['title_status'].isin(excluded_condition_status)]\n",
        "\n",
        "  row_count_change = (dataframe.shape[0] - standard_vehicles_df.shape[0])\n",
        "\n",
        "  return (standard_vehicles_df, row_count_change)"
      ],
      "metadata": {
        "id": "_eo16uj3p6c3"
      },
      "execution_count": null,
      "outputs": []
    },
    {
      "cell_type": "code",
      "source": [
        "def lower_case_column_values(dataframe, column_name):\n",
        "  dataframe[column_name] = dataframe[column_name].str.lower()\n",
        "  return dataframe"
      ],
      "metadata": {
        "id": "dIJQpc4fdBVG"
      },
      "execution_count": null,
      "outputs": []
    },
    {
      "cell_type": "code",
      "source": [
        "def impute_manufacturer(row):\n",
        "  # precondition: the model column is populated with non-null data\n",
        "  if pd.isna(row['manufacturer']):\n",
        "    split_array = str(row['model']).split()\n",
        "    return get_first_non_numeric_string(split_array)\n",
        "  else:\n",
        "    return row['manufacturer']\n",
        "\n",
        "def get_first_non_numeric_string(split_array):\n",
        "  for token in split_array:\n",
        "    if not token.isdigit():\n",
        "      return token\n",
        "  return \"unknown manufacturer\""
      ],
      "metadata": {
        "id": "POlv-KKbj3C-"
      },
      "execution_count": null,
      "outputs": []
    },
    {
      "cell_type": "code",
      "source": [
        "def clean_nan_values(dataframe):\n",
        "  # drop all rows where 'year' == NaN\n",
        "  df = dataframe.dropna(subset=['year'])\n",
        "\n",
        "  # drop all rows where both 'model' and 'manufacturer' are both NaN\n",
        "  df = df.dropna(subset=[\"model\", \"manufacturer\"], how=\"all\", inplace=False)\n",
        "\n",
        "  df['manufacturer'] = df.apply(impute_manufacturer, axis=1)\n",
        "\n",
        "  # impute model values with the most common model for the manufacturer and cylinder count\n",
        "  df['model'] = df.groupby(['manufacturer'])['model'].transform(lambda x: x.fillna(\"model-not-available\" if (len(x.mode()) == 0) else x.mode()[0]))\n",
        "\n",
        "  row_count_change = (dataframe.shape[0] - df.shape[0])\n",
        "\n",
        "  return (df, row_count_change)"
      ],
      "metadata": {
        "id": "aLdhUDNEWRyc"
      },
      "execution_count": null,
      "outputs": []
    },
    {
      "cell_type": "code",
      "source": [
        "def transform_dataset_for_modeling(dataframe, manufacturer = None):\n",
        "  data_df = dataframe.copy()\n",
        "  data_df['age'] = 2023 - data_df['year']\n",
        "\n",
        "  data_df['brand_value'] = data_df.groupby(['manufacturer', 'model'])['price'].transform(lambda x: round(x.mean(), 2))\n",
        "\n",
        "  # limit dataset by manufacturer if provided\n",
        "  if manufacturer != None:\n",
        "    data_df = data_df[data_df['manufacturer'] == manufacturer]\n",
        "\n",
        "  return data_df"
      ],
      "metadata": {
        "id": "DHftlcNxftwI"
      },
      "execution_count": null,
      "outputs": []
    },
    {
      "cell_type": "code",
      "source": [
        "def clean_and_transform_dataframe(dataframe):\n",
        "  df = dataframe.copy()\n",
        "\n",
        "  # table actions\n",
        "  df = df.convert_dtypes()\n",
        "  df = lower_case_column_values(df, 'manufacturer')\n",
        "  df = lower_case_column_values(df, 'model')\n",
        "\n",
        "  # data cleaning actions\n",
        "  (df, exclusion_deletions) = exclude_non_standard_vehicles(df)\n",
        "  (df, nan_deletions) = clean_nan_values(df)\n",
        "\n",
        "  # data transformation actions\n",
        "  df = transform_dataset_for_modeling(df)\n",
        "\n",
        "  # drop unused columns\n",
        "  df = df.drop(columns=['id', 'region', 'year', 'manufacturer', 'model', 'condition', 'cylinders', 'fuel', 'title_status', 'transmission', 'VIN', 'drive', 'size', 'type', 'paint_color', 'state'])\n",
        "\n",
        "  print(\"exclude_non_standard_vehicles(df) | rows deleted: \" + str(exclusion_deletions))\n",
        "  print(\"clean_nan_values(df) | rows deleted: \" + str(nan_deletions))\n",
        "  print(\"\")\n",
        "\n",
        "  return df"
      ],
      "metadata": {
        "id": "jwJDpf_G4BYm"
      },
      "execution_count": null,
      "outputs": []
    },
    {
      "cell_type": "code",
      "source": [
        "df = clean_and_transform_dataframe(vehicles_df)\n",
        "df.info()"
      ],
      "metadata": {
        "colab": {
          "base_uri": "https://localhost:8080/"
        },
        "id": "GifILWvC4iwn",
        "outputId": "1b6c794e-db33-419f-9c94-dd443869ec23"
      },
      "execution_count": null,
      "outputs": [
        {
          "output_type": "stream",
          "name": "stdout",
          "text": [
            "exclude_non_standard_vehicles(df) | rows deleted: 85138\n",
            "clean_nan_values(df) | rows deleted: 0\n",
            "\n",
            "<class 'pandas.core.frame.DataFrame'>\n",
            "Index: 341742 entries, 27 to 426879\n",
            "Data columns (total 4 columns):\n",
            " #   Column       Non-Null Count   Dtype  \n",
            "---  ------       --------------   -----  \n",
            " 0   price        341742 non-null  Int64  \n",
            " 1   odometer     341742 non-null  Int64  \n",
            " 2   age          341742 non-null  Int64  \n",
            " 3   brand_value  341742 non-null  float64\n",
            "dtypes: Int64(3), float64(1)\n",
            "memory usage: 14.0 MB\n"
          ]
        }
      ]
    },
    {
      "cell_type": "code",
      "source": [
        "get_nan_stats(df)"
      ],
      "metadata": {
        "colab": {
          "base_uri": "https://localhost:8080/",
          "height": 175
        },
        "id": "R4HyI-J1oy7r",
        "outputId": "48b292b1-7bf8-481d-f9dd-83a01d0d8b6f"
      },
      "execution_count": null,
      "outputs": [
        {
          "output_type": "execute_result",
          "data": {
            "text/plain": [
              "             count  percentage\n",
              "price            0         0.0\n",
              "odometer         0         0.0\n",
              "age              0         0.0\n",
              "brand_value      0         0.0"
            ],
            "text/html": [
              "\n",
              "  <div id=\"df-6c42d57c-ef03-42b4-b094-cbe2f64a1d97\" class=\"colab-df-container\">\n",
              "    <div>\n",
              "<style scoped>\n",
              "    .dataframe tbody tr th:only-of-type {\n",
              "        vertical-align: middle;\n",
              "    }\n",
              "\n",
              "    .dataframe tbody tr th {\n",
              "        vertical-align: top;\n",
              "    }\n",
              "\n",
              "    .dataframe thead th {\n",
              "        text-align: right;\n",
              "    }\n",
              "</style>\n",
              "<table border=\"1\" class=\"dataframe\">\n",
              "  <thead>\n",
              "    <tr style=\"text-align: right;\">\n",
              "      <th></th>\n",
              "      <th>count</th>\n",
              "      <th>percentage</th>\n",
              "    </tr>\n",
              "  </thead>\n",
              "  <tbody>\n",
              "    <tr>\n",
              "      <th>price</th>\n",
              "      <td>0</td>\n",
              "      <td>0.0</td>\n",
              "    </tr>\n",
              "    <tr>\n",
              "      <th>odometer</th>\n",
              "      <td>0</td>\n",
              "      <td>0.0</td>\n",
              "    </tr>\n",
              "    <tr>\n",
              "      <th>age</th>\n",
              "      <td>0</td>\n",
              "      <td>0.0</td>\n",
              "    </tr>\n",
              "    <tr>\n",
              "      <th>brand_value</th>\n",
              "      <td>0</td>\n",
              "      <td>0.0</td>\n",
              "    </tr>\n",
              "  </tbody>\n",
              "</table>\n",
              "</div>\n",
              "    <div class=\"colab-df-buttons\">\n",
              "\n",
              "  <div class=\"colab-df-container\">\n",
              "    <button class=\"colab-df-convert\" onclick=\"convertToInteractive('df-6c42d57c-ef03-42b4-b094-cbe2f64a1d97')\"\n",
              "            title=\"Convert this dataframe to an interactive table.\"\n",
              "            style=\"display:none;\">\n",
              "\n",
              "  <svg xmlns=\"http://www.w3.org/2000/svg\" height=\"24px\" viewBox=\"0 -960 960 960\">\n",
              "    <path d=\"M120-120v-720h720v720H120Zm60-500h600v-160H180v160Zm220 220h160v-160H400v160Zm0 220h160v-160H400v160ZM180-400h160v-160H180v160Zm440 0h160v-160H620v160ZM180-180h160v-160H180v160Zm440 0h160v-160H620v160Z\"/>\n",
              "  </svg>\n",
              "    </button>\n",
              "\n",
              "  <style>\n",
              "    .colab-df-container {\n",
              "      display:flex;\n",
              "      gap: 12px;\n",
              "    }\n",
              "\n",
              "    .colab-df-convert {\n",
              "      background-color: #E8F0FE;\n",
              "      border: none;\n",
              "      border-radius: 50%;\n",
              "      cursor: pointer;\n",
              "      display: none;\n",
              "      fill: #1967D2;\n",
              "      height: 32px;\n",
              "      padding: 0 0 0 0;\n",
              "      width: 32px;\n",
              "    }\n",
              "\n",
              "    .colab-df-convert:hover {\n",
              "      background-color: #E2EBFA;\n",
              "      box-shadow: 0px 1px 2px rgba(60, 64, 67, 0.3), 0px 1px 3px 1px rgba(60, 64, 67, 0.15);\n",
              "      fill: #174EA6;\n",
              "    }\n",
              "\n",
              "    .colab-df-buttons div {\n",
              "      margin-bottom: 4px;\n",
              "    }\n",
              "\n",
              "    [theme=dark] .colab-df-convert {\n",
              "      background-color: #3B4455;\n",
              "      fill: #D2E3FC;\n",
              "    }\n",
              "\n",
              "    [theme=dark] .colab-df-convert:hover {\n",
              "      background-color: #434B5C;\n",
              "      box-shadow: 0px 1px 3px 1px rgba(0, 0, 0, 0.15);\n",
              "      filter: drop-shadow(0px 1px 2px rgba(0, 0, 0, 0.3));\n",
              "      fill: #FFFFFF;\n",
              "    }\n",
              "  </style>\n",
              "\n",
              "    <script>\n",
              "      const buttonEl =\n",
              "        document.querySelector('#df-6c42d57c-ef03-42b4-b094-cbe2f64a1d97 button.colab-df-convert');\n",
              "      buttonEl.style.display =\n",
              "        google.colab.kernel.accessAllowed ? 'block' : 'none';\n",
              "\n",
              "      async function convertToInteractive(key) {\n",
              "        const element = document.querySelector('#df-6c42d57c-ef03-42b4-b094-cbe2f64a1d97');\n",
              "        const dataTable =\n",
              "          await google.colab.kernel.invokeFunction('convertToInteractive',\n",
              "                                                    [key], {});\n",
              "        if (!dataTable) return;\n",
              "\n",
              "        const docLinkHtml = 'Like what you see? Visit the ' +\n",
              "          '<a target=\"_blank\" href=https://colab.research.google.com/notebooks/data_table.ipynb>data table notebook</a>'\n",
              "          + ' to learn more about interactive tables.';\n",
              "        element.innerHTML = '';\n",
              "        dataTable['output_type'] = 'display_data';\n",
              "        await google.colab.output.renderOutput(dataTable, element);\n",
              "        const docLink = document.createElement('div');\n",
              "        docLink.innerHTML = docLinkHtml;\n",
              "        element.appendChild(docLink);\n",
              "      }\n",
              "    </script>\n",
              "  </div>\n",
              "\n",
              "\n",
              "<div id=\"df-02a5a5e9-2a1a-45bd-bb15-faf9b3befbef\">\n",
              "  <button class=\"colab-df-quickchart\" onclick=\"quickchart('df-02a5a5e9-2a1a-45bd-bb15-faf9b3befbef')\"\n",
              "            title=\"Suggest charts\"\n",
              "            style=\"display:none;\">\n",
              "\n",
              "<svg xmlns=\"http://www.w3.org/2000/svg\" height=\"24px\"viewBox=\"0 0 24 24\"\n",
              "     width=\"24px\">\n",
              "    <g>\n",
              "        <path d=\"M19 3H5c-1.1 0-2 .9-2 2v14c0 1.1.9 2 2 2h14c1.1 0 2-.9 2-2V5c0-1.1-.9-2-2-2zM9 17H7v-7h2v7zm4 0h-2V7h2v10zm4 0h-2v-4h2v4z\"/>\n",
              "    </g>\n",
              "</svg>\n",
              "  </button>\n",
              "\n",
              "<style>\n",
              "  .colab-df-quickchart {\n",
              "      --bg-color: #E8F0FE;\n",
              "      --fill-color: #1967D2;\n",
              "      --hover-bg-color: #E2EBFA;\n",
              "      --hover-fill-color: #174EA6;\n",
              "      --disabled-fill-color: #AAA;\n",
              "      --disabled-bg-color: #DDD;\n",
              "  }\n",
              "\n",
              "  [theme=dark] .colab-df-quickchart {\n",
              "      --bg-color: #3B4455;\n",
              "      --fill-color: #D2E3FC;\n",
              "      --hover-bg-color: #434B5C;\n",
              "      --hover-fill-color: #FFFFFF;\n",
              "      --disabled-bg-color: #3B4455;\n",
              "      --disabled-fill-color: #666;\n",
              "  }\n",
              "\n",
              "  .colab-df-quickchart {\n",
              "    background-color: var(--bg-color);\n",
              "    border: none;\n",
              "    border-radius: 50%;\n",
              "    cursor: pointer;\n",
              "    display: none;\n",
              "    fill: var(--fill-color);\n",
              "    height: 32px;\n",
              "    padding: 0;\n",
              "    width: 32px;\n",
              "  }\n",
              "\n",
              "  .colab-df-quickchart:hover {\n",
              "    background-color: var(--hover-bg-color);\n",
              "    box-shadow: 0 1px 2px rgba(60, 64, 67, 0.3), 0 1px 3px 1px rgba(60, 64, 67, 0.15);\n",
              "    fill: var(--button-hover-fill-color);\n",
              "  }\n",
              "\n",
              "  .colab-df-quickchart-complete:disabled,\n",
              "  .colab-df-quickchart-complete:disabled:hover {\n",
              "    background-color: var(--disabled-bg-color);\n",
              "    fill: var(--disabled-fill-color);\n",
              "    box-shadow: none;\n",
              "  }\n",
              "\n",
              "  .colab-df-spinner {\n",
              "    border: 2px solid var(--fill-color);\n",
              "    border-color: transparent;\n",
              "    border-bottom-color: var(--fill-color);\n",
              "    animation:\n",
              "      spin 1s steps(1) infinite;\n",
              "  }\n",
              "\n",
              "  @keyframes spin {\n",
              "    0% {\n",
              "      border-color: transparent;\n",
              "      border-bottom-color: var(--fill-color);\n",
              "      border-left-color: var(--fill-color);\n",
              "    }\n",
              "    20% {\n",
              "      border-color: transparent;\n",
              "      border-left-color: var(--fill-color);\n",
              "      border-top-color: var(--fill-color);\n",
              "    }\n",
              "    30% {\n",
              "      border-color: transparent;\n",
              "      border-left-color: var(--fill-color);\n",
              "      border-top-color: var(--fill-color);\n",
              "      border-right-color: var(--fill-color);\n",
              "    }\n",
              "    40% {\n",
              "      border-color: transparent;\n",
              "      border-right-color: var(--fill-color);\n",
              "      border-top-color: var(--fill-color);\n",
              "    }\n",
              "    60% {\n",
              "      border-color: transparent;\n",
              "      border-right-color: var(--fill-color);\n",
              "    }\n",
              "    80% {\n",
              "      border-color: transparent;\n",
              "      border-right-color: var(--fill-color);\n",
              "      border-bottom-color: var(--fill-color);\n",
              "    }\n",
              "    90% {\n",
              "      border-color: transparent;\n",
              "      border-bottom-color: var(--fill-color);\n",
              "    }\n",
              "  }\n",
              "</style>\n",
              "\n",
              "  <script>\n",
              "    async function quickchart(key) {\n",
              "      const quickchartButtonEl =\n",
              "        document.querySelector('#' + key + ' button');\n",
              "      quickchartButtonEl.disabled = true;  // To prevent multiple clicks.\n",
              "      quickchartButtonEl.classList.add('colab-df-spinner');\n",
              "      try {\n",
              "        const charts = await google.colab.kernel.invokeFunction(\n",
              "            'suggestCharts', [key], {});\n",
              "      } catch (error) {\n",
              "        console.error('Error during call to suggestCharts:', error);\n",
              "      }\n",
              "      quickchartButtonEl.classList.remove('colab-df-spinner');\n",
              "      quickchartButtonEl.classList.add('colab-df-quickchart-complete');\n",
              "    }\n",
              "    (() => {\n",
              "      let quickchartButtonEl =\n",
              "        document.querySelector('#df-02a5a5e9-2a1a-45bd-bb15-faf9b3befbef button');\n",
              "      quickchartButtonEl.style.display =\n",
              "        google.colab.kernel.accessAllowed ? 'block' : 'none';\n",
              "    })();\n",
              "  </script>\n",
              "</div>\n",
              "\n",
              "    </div>\n",
              "  </div>\n"
            ],
            "application/vnd.google.colaboratory.intrinsic+json": {
              "type": "dataframe",
              "summary": "{\n  \"name\": \"get_nan_stats(df)\",\n  \"rows\": 4,\n  \"fields\": [\n    {\n      \"column\": \"count\",\n      \"properties\": {\n        \"dtype\": \"number\",\n        \"std\": 0,\n        \"min\": 0,\n        \"max\": 0,\n        \"num_unique_values\": 1,\n        \"samples\": [\n          0\n        ],\n        \"semantic_type\": \"\",\n        \"description\": \"\"\n      }\n    },\n    {\n      \"column\": \"percentage\",\n      \"properties\": {\n        \"dtype\": \"number\",\n        \"std\": 0.0,\n        \"min\": 0.0,\n        \"max\": 0.0,\n        \"num_unique_values\": 1,\n        \"samples\": [\n          0.0\n        ],\n        \"semantic_type\": \"\",\n        \"description\": \"\"\n      }\n    }\n  ]\n}"
            }
          },
          "metadata": {},
          "execution_count": 34
        }
      ]
    },
    {
      "cell_type": "code",
      "source": [
        "df.corr()"
      ],
      "metadata": {
        "colab": {
          "base_uri": "https://localhost:8080/",
          "height": 175
        },
        "id": "CQ7JfycrCyHL",
        "outputId": "38be8afd-a467-41c5-d646-81f67ba99f07"
      },
      "execution_count": null,
      "outputs": [
        {
          "output_type": "execute_result",
          "data": {
            "text/plain": [
              "                price  odometer       age  brand_value\n",
              "price        1.000000 -0.539225 -0.557294     0.810085\n",
              "odometer    -0.539225  1.000000  0.608493    -0.363800\n",
              "age         -0.557294  0.608493  1.000000    -0.364353\n",
              "brand_value  0.810085 -0.363800 -0.364353     1.000000"
            ],
            "text/html": [
              "\n",
              "  <div id=\"df-b7a2074f-4007-4958-ab1b-01a597fe123b\" class=\"colab-df-container\">\n",
              "    <div>\n",
              "<style scoped>\n",
              "    .dataframe tbody tr th:only-of-type {\n",
              "        vertical-align: middle;\n",
              "    }\n",
              "\n",
              "    .dataframe tbody tr th {\n",
              "        vertical-align: top;\n",
              "    }\n",
              "\n",
              "    .dataframe thead th {\n",
              "        text-align: right;\n",
              "    }\n",
              "</style>\n",
              "<table border=\"1\" class=\"dataframe\">\n",
              "  <thead>\n",
              "    <tr style=\"text-align: right;\">\n",
              "      <th></th>\n",
              "      <th>price</th>\n",
              "      <th>odometer</th>\n",
              "      <th>age</th>\n",
              "      <th>brand_value</th>\n",
              "    </tr>\n",
              "  </thead>\n",
              "  <tbody>\n",
              "    <tr>\n",
              "      <th>price</th>\n",
              "      <td>1.000000</td>\n",
              "      <td>-0.539225</td>\n",
              "      <td>-0.557294</td>\n",
              "      <td>0.810085</td>\n",
              "    </tr>\n",
              "    <tr>\n",
              "      <th>odometer</th>\n",
              "      <td>-0.539225</td>\n",
              "      <td>1.000000</td>\n",
              "      <td>0.608493</td>\n",
              "      <td>-0.363800</td>\n",
              "    </tr>\n",
              "    <tr>\n",
              "      <th>age</th>\n",
              "      <td>-0.557294</td>\n",
              "      <td>0.608493</td>\n",
              "      <td>1.000000</td>\n",
              "      <td>-0.364353</td>\n",
              "    </tr>\n",
              "    <tr>\n",
              "      <th>brand_value</th>\n",
              "      <td>0.810085</td>\n",
              "      <td>-0.363800</td>\n",
              "      <td>-0.364353</td>\n",
              "      <td>1.000000</td>\n",
              "    </tr>\n",
              "  </tbody>\n",
              "</table>\n",
              "</div>\n",
              "    <div class=\"colab-df-buttons\">\n",
              "\n",
              "  <div class=\"colab-df-container\">\n",
              "    <button class=\"colab-df-convert\" onclick=\"convertToInteractive('df-b7a2074f-4007-4958-ab1b-01a597fe123b')\"\n",
              "            title=\"Convert this dataframe to an interactive table.\"\n",
              "            style=\"display:none;\">\n",
              "\n",
              "  <svg xmlns=\"http://www.w3.org/2000/svg\" height=\"24px\" viewBox=\"0 -960 960 960\">\n",
              "    <path d=\"M120-120v-720h720v720H120Zm60-500h600v-160H180v160Zm220 220h160v-160H400v160Zm0 220h160v-160H400v160ZM180-400h160v-160H180v160Zm440 0h160v-160H620v160ZM180-180h160v-160H180v160Zm440 0h160v-160H620v160Z\"/>\n",
              "  </svg>\n",
              "    </button>\n",
              "\n",
              "  <style>\n",
              "    .colab-df-container {\n",
              "      display:flex;\n",
              "      gap: 12px;\n",
              "    }\n",
              "\n",
              "    .colab-df-convert {\n",
              "      background-color: #E8F0FE;\n",
              "      border: none;\n",
              "      border-radius: 50%;\n",
              "      cursor: pointer;\n",
              "      display: none;\n",
              "      fill: #1967D2;\n",
              "      height: 32px;\n",
              "      padding: 0 0 0 0;\n",
              "      width: 32px;\n",
              "    }\n",
              "\n",
              "    .colab-df-convert:hover {\n",
              "      background-color: #E2EBFA;\n",
              "      box-shadow: 0px 1px 2px rgba(60, 64, 67, 0.3), 0px 1px 3px 1px rgba(60, 64, 67, 0.15);\n",
              "      fill: #174EA6;\n",
              "    }\n",
              "\n",
              "    .colab-df-buttons div {\n",
              "      margin-bottom: 4px;\n",
              "    }\n",
              "\n",
              "    [theme=dark] .colab-df-convert {\n",
              "      background-color: #3B4455;\n",
              "      fill: #D2E3FC;\n",
              "    }\n",
              "\n",
              "    [theme=dark] .colab-df-convert:hover {\n",
              "      background-color: #434B5C;\n",
              "      box-shadow: 0px 1px 3px 1px rgba(0, 0, 0, 0.15);\n",
              "      filter: drop-shadow(0px 1px 2px rgba(0, 0, 0, 0.3));\n",
              "      fill: #FFFFFF;\n",
              "    }\n",
              "  </style>\n",
              "\n",
              "    <script>\n",
              "      const buttonEl =\n",
              "        document.querySelector('#df-b7a2074f-4007-4958-ab1b-01a597fe123b button.colab-df-convert');\n",
              "      buttonEl.style.display =\n",
              "        google.colab.kernel.accessAllowed ? 'block' : 'none';\n",
              "\n",
              "      async function convertToInteractive(key) {\n",
              "        const element = document.querySelector('#df-b7a2074f-4007-4958-ab1b-01a597fe123b');\n",
              "        const dataTable =\n",
              "          await google.colab.kernel.invokeFunction('convertToInteractive',\n",
              "                                                    [key], {});\n",
              "        if (!dataTable) return;\n",
              "\n",
              "        const docLinkHtml = 'Like what you see? Visit the ' +\n",
              "          '<a target=\"_blank\" href=https://colab.research.google.com/notebooks/data_table.ipynb>data table notebook</a>'\n",
              "          + ' to learn more about interactive tables.';\n",
              "        element.innerHTML = '';\n",
              "        dataTable['output_type'] = 'display_data';\n",
              "        await google.colab.output.renderOutput(dataTable, element);\n",
              "        const docLink = document.createElement('div');\n",
              "        docLink.innerHTML = docLinkHtml;\n",
              "        element.appendChild(docLink);\n",
              "      }\n",
              "    </script>\n",
              "  </div>\n",
              "\n",
              "\n",
              "<div id=\"df-ed7a9ec8-d4d2-4b91-b594-982e3400bcd9\">\n",
              "  <button class=\"colab-df-quickchart\" onclick=\"quickchart('df-ed7a9ec8-d4d2-4b91-b594-982e3400bcd9')\"\n",
              "            title=\"Suggest charts\"\n",
              "            style=\"display:none;\">\n",
              "\n",
              "<svg xmlns=\"http://www.w3.org/2000/svg\" height=\"24px\"viewBox=\"0 0 24 24\"\n",
              "     width=\"24px\">\n",
              "    <g>\n",
              "        <path d=\"M19 3H5c-1.1 0-2 .9-2 2v14c0 1.1.9 2 2 2h14c1.1 0 2-.9 2-2V5c0-1.1-.9-2-2-2zM9 17H7v-7h2v7zm4 0h-2V7h2v10zm4 0h-2v-4h2v4z\"/>\n",
              "    </g>\n",
              "</svg>\n",
              "  </button>\n",
              "\n",
              "<style>\n",
              "  .colab-df-quickchart {\n",
              "      --bg-color: #E8F0FE;\n",
              "      --fill-color: #1967D2;\n",
              "      --hover-bg-color: #E2EBFA;\n",
              "      --hover-fill-color: #174EA6;\n",
              "      --disabled-fill-color: #AAA;\n",
              "      --disabled-bg-color: #DDD;\n",
              "  }\n",
              "\n",
              "  [theme=dark] .colab-df-quickchart {\n",
              "      --bg-color: #3B4455;\n",
              "      --fill-color: #D2E3FC;\n",
              "      --hover-bg-color: #434B5C;\n",
              "      --hover-fill-color: #FFFFFF;\n",
              "      --disabled-bg-color: #3B4455;\n",
              "      --disabled-fill-color: #666;\n",
              "  }\n",
              "\n",
              "  .colab-df-quickchart {\n",
              "    background-color: var(--bg-color);\n",
              "    border: none;\n",
              "    border-radius: 50%;\n",
              "    cursor: pointer;\n",
              "    display: none;\n",
              "    fill: var(--fill-color);\n",
              "    height: 32px;\n",
              "    padding: 0;\n",
              "    width: 32px;\n",
              "  }\n",
              "\n",
              "  .colab-df-quickchart:hover {\n",
              "    background-color: var(--hover-bg-color);\n",
              "    box-shadow: 0 1px 2px rgba(60, 64, 67, 0.3), 0 1px 3px 1px rgba(60, 64, 67, 0.15);\n",
              "    fill: var(--button-hover-fill-color);\n",
              "  }\n",
              "\n",
              "  .colab-df-quickchart-complete:disabled,\n",
              "  .colab-df-quickchart-complete:disabled:hover {\n",
              "    background-color: var(--disabled-bg-color);\n",
              "    fill: var(--disabled-fill-color);\n",
              "    box-shadow: none;\n",
              "  }\n",
              "\n",
              "  .colab-df-spinner {\n",
              "    border: 2px solid var(--fill-color);\n",
              "    border-color: transparent;\n",
              "    border-bottom-color: var(--fill-color);\n",
              "    animation:\n",
              "      spin 1s steps(1) infinite;\n",
              "  }\n",
              "\n",
              "  @keyframes spin {\n",
              "    0% {\n",
              "      border-color: transparent;\n",
              "      border-bottom-color: var(--fill-color);\n",
              "      border-left-color: var(--fill-color);\n",
              "    }\n",
              "    20% {\n",
              "      border-color: transparent;\n",
              "      border-left-color: var(--fill-color);\n",
              "      border-top-color: var(--fill-color);\n",
              "    }\n",
              "    30% {\n",
              "      border-color: transparent;\n",
              "      border-left-color: var(--fill-color);\n",
              "      border-top-color: var(--fill-color);\n",
              "      border-right-color: var(--fill-color);\n",
              "    }\n",
              "    40% {\n",
              "      border-color: transparent;\n",
              "      border-right-color: var(--fill-color);\n",
              "      border-top-color: var(--fill-color);\n",
              "    }\n",
              "    60% {\n",
              "      border-color: transparent;\n",
              "      border-right-color: var(--fill-color);\n",
              "    }\n",
              "    80% {\n",
              "      border-color: transparent;\n",
              "      border-right-color: var(--fill-color);\n",
              "      border-bottom-color: var(--fill-color);\n",
              "    }\n",
              "    90% {\n",
              "      border-color: transparent;\n",
              "      border-bottom-color: var(--fill-color);\n",
              "    }\n",
              "  }\n",
              "</style>\n",
              "\n",
              "  <script>\n",
              "    async function quickchart(key) {\n",
              "      const quickchartButtonEl =\n",
              "        document.querySelector('#' + key + ' button');\n",
              "      quickchartButtonEl.disabled = true;  // To prevent multiple clicks.\n",
              "      quickchartButtonEl.classList.add('colab-df-spinner');\n",
              "      try {\n",
              "        const charts = await google.colab.kernel.invokeFunction(\n",
              "            'suggestCharts', [key], {});\n",
              "      } catch (error) {\n",
              "        console.error('Error during call to suggestCharts:', error);\n",
              "      }\n",
              "      quickchartButtonEl.classList.remove('colab-df-spinner');\n",
              "      quickchartButtonEl.classList.add('colab-df-quickchart-complete');\n",
              "    }\n",
              "    (() => {\n",
              "      let quickchartButtonEl =\n",
              "        document.querySelector('#df-ed7a9ec8-d4d2-4b91-b594-982e3400bcd9 button');\n",
              "      quickchartButtonEl.style.display =\n",
              "        google.colab.kernel.accessAllowed ? 'block' : 'none';\n",
              "    })();\n",
              "  </script>\n",
              "</div>\n",
              "\n",
              "    </div>\n",
              "  </div>\n"
            ],
            "application/vnd.google.colaboratory.intrinsic+json": {
              "type": "dataframe",
              "summary": "{\n  \"name\": \"df\",\n  \"rows\": 4,\n  \"fields\": [\n    {\n      \"column\": \"price\",\n      \"properties\": {\n        \"dtype\": \"number\",\n        \"std\": 0.8426710906462747,\n        \"min\": -0.5572941705262443,\n        \"max\": 1.0,\n        \"num_unique_values\": 4,\n        \"samples\": [\n          -0.5392246226542518,\n          0.8100851507910753,\n          1.0\n        ],\n        \"semantic_type\": \"\",\n        \"description\": \"\"\n      }\n    },\n    {\n      \"column\": \"odometer\",\n      \"properties\": {\n        \"dtype\": \"number\",\n        \"std\": 0.7458677564179247,\n        \"min\": -0.5392246226542518,\n        \"max\": 1.0,\n        \"num_unique_values\": 4,\n        \"samples\": [\n          1.0,\n          -0.3638001052382652,\n          -0.5392246226542518\n        ],\n        \"semantic_type\": \"\",\n        \"description\": \"\"\n      }\n    },\n    {\n      \"column\": \"age\",\n      \"properties\": {\n        \"dtype\": \"number\",\n        \"std\": 0.7518099778889614,\n        \"min\": -0.5572941705262443,\n        \"max\": 1.0,\n        \"num_unique_values\": 4,\n        \"samples\": [\n          0.6084930689987622,\n          -0.3643533119878372,\n          -0.5572941705262443\n        ],\n        \"semantic_type\": \"\",\n        \"description\": \"\"\n      }\n    },\n    {\n      \"column\": \"brand_value\",\n      \"properties\": {\n        \"dtype\": \"number\",\n        \"std\": 0.73681696846104,\n        \"min\": -0.3643533119878372,\n        \"max\": 1.0,\n        \"num_unique_values\": 4,\n        \"samples\": [\n          -0.3638001052382652,\n          1.0,\n          0.8100851507910753\n        ],\n        \"semantic_type\": \"\",\n        \"description\": \"\"\n      }\n    }\n  ]\n}"
            }
          },
          "metadata": {},
          "execution_count": 35
        }
      ]
    },
    {
      "cell_type": "code",
      "source": [
        "plt.figure(figsize=(5,3))\n",
        "sns.heatmap(df.corr(), annot=True, cmap='Blues')\n",
        "plt.title('feature correlation')\n",
        "plt.show()"
      ],
      "metadata": {
        "colab": {
          "base_uri": "https://localhost:8080/",
          "height": 314
        },
        "id": "fignK-2zDSEP",
        "outputId": "7e308a47-3ece-4f68-fa45-650ec34e66fb"
      },
      "execution_count": null,
      "outputs": [
        {
          "output_type": "display_data",
          "data": {
            "text/plain": [
              "<Figure size 500x300 with 2 Axes>"
            ],
            "image/png": "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\n"
          },
          "metadata": {}
        }
      ]
    },
    {
      "cell_type": "code",
      "source": [
        "df.describe().style.format(\"{:.2f}\")"
      ],
      "metadata": {
        "colab": {
          "base_uri": "https://localhost:8080/",
          "height": 300
        },
        "id": "IUADqu8Rtk8-",
        "outputId": "5847d206-00b3-4c30-9577-60bc23692c8e"
      },
      "execution_count": null,
      "outputs": [
        {
          "output_type": "execute_result",
          "data": {
            "text/plain": [
              "<pandas.io.formats.style.Styler at 0x78f1fd487550>"
            ],
            "text/html": [
              "<style type=\"text/css\">\n",
              "</style>\n",
              "<table id=\"T_a799e\" class=\"dataframe\">\n",
              "  <thead>\n",
              "    <tr>\n",
              "      <th class=\"blank level0\" >&nbsp;</th>\n",
              "      <th id=\"T_a799e_level0_col0\" class=\"col_heading level0 col0\" >price</th>\n",
              "      <th id=\"T_a799e_level0_col1\" class=\"col_heading level0 col1\" >odometer</th>\n",
              "      <th id=\"T_a799e_level0_col2\" class=\"col_heading level0 col2\" >age</th>\n",
              "      <th id=\"T_a799e_level0_col3\" class=\"col_heading level0 col3\" >brand_value</th>\n",
              "    </tr>\n",
              "  </thead>\n",
              "  <tbody>\n",
              "    <tr>\n",
              "      <th id=\"T_a799e_level0_row0\" class=\"row_heading level0 row0\" >count</th>\n",
              "      <td id=\"T_a799e_row0_col0\" class=\"data row0 col0\" >341742.00</td>\n",
              "      <td id=\"T_a799e_row0_col1\" class=\"data row0 col1\" >341742.00</td>\n",
              "      <td id=\"T_a799e_row0_col2\" class=\"data row0 col2\" >341742.00</td>\n",
              "      <td id=\"T_a799e_row0_col3\" class=\"data row0 col3\" >341742.00</td>\n",
              "    </tr>\n",
              "    <tr>\n",
              "      <th id=\"T_a799e_level0_row1\" class=\"row_heading level0 row1\" >mean</th>\n",
              "      <td id=\"T_a799e_row1_col0\" class=\"data row1 col0\" >20105.75</td>\n",
              "      <td id=\"T_a799e_row1_col1\" class=\"data row1 col1\" >84589.39</td>\n",
              "      <td id=\"T_a799e_row1_col2\" class=\"data row1 col2\" >10.26</td>\n",
              "      <td id=\"T_a799e_row1_col3\" class=\"data row1 col3\" >20105.75</td>\n",
              "    </tr>\n",
              "    <tr>\n",
              "      <th id=\"T_a799e_level0_row2\" class=\"row_heading level0 row2\" >std</th>\n",
              "      <td id=\"T_a799e_row2_col0\" class=\"data row2 col0\" >14726.76</td>\n",
              "      <td id=\"T_a799e_row2_col1\" class=\"data row2 col1\" >53672.09</td>\n",
              "      <td id=\"T_a799e_row2_col2\" class=\"data row2 col2\" >5.56</td>\n",
              "      <td id=\"T_a799e_row2_col3\" class=\"data row2 col3\" >11929.93</td>\n",
              "    </tr>\n",
              "    <tr>\n",
              "      <th id=\"T_a799e_level0_row3\" class=\"row_heading level0 row3\" >min</th>\n",
              "      <td id=\"T_a799e_row3_col0\" class=\"data row3 col0\" >500.00</td>\n",
              "      <td id=\"T_a799e_row3_col1\" class=\"data row3 col1\" >0.00</td>\n",
              "      <td id=\"T_a799e_row3_col2\" class=\"data row3 col2\" >1.00</td>\n",
              "      <td id=\"T_a799e_row3_col3\" class=\"data row3 col3\" >500.00</td>\n",
              "    </tr>\n",
              "    <tr>\n",
              "      <th id=\"T_a799e_level0_row4\" class=\"row_heading level0 row4\" >25%</th>\n",
              "      <td id=\"T_a799e_row4_col0\" class=\"data row4 col0\" >8500.00</td>\n",
              "      <td id=\"T_a799e_row4_col1\" class=\"data row4 col1\" >36000.00</td>\n",
              "      <td id=\"T_a799e_row4_col2\" class=\"data row4 col2\" >6.00</td>\n",
              "      <td id=\"T_a799e_row4_col3\" class=\"data row4 col3\" >10563.42</td>\n",
              "    </tr>\n",
              "    <tr>\n",
              "      <th id=\"T_a799e_level0_row5\" class=\"row_heading level0 row5\" >50%</th>\n",
              "      <td id=\"T_a799e_row5_col0\" class=\"data row5 col0\" >16988.00</td>\n",
              "      <td id=\"T_a799e_row5_col1\" class=\"data row5 col1\" >82584.00</td>\n",
              "      <td id=\"T_a799e_row5_col2\" class=\"data row5 col2\" >9.00</td>\n",
              "      <td id=\"T_a799e_row5_col3\" class=\"data row5 col3\" >17698.05</td>\n",
              "    </tr>\n",
              "    <tr>\n",
              "      <th id=\"T_a799e_level0_row6\" class=\"row_heading level0 row6\" >75%</th>\n",
              "      <td id=\"T_a799e_row6_col0\" class=\"data row6 col0\" >28988.00</td>\n",
              "      <td id=\"T_a799e_row6_col1\" class=\"data row6 col1\" >127076.75</td>\n",
              "      <td id=\"T_a799e_row6_col2\" class=\"data row6 col2\" >13.00</td>\n",
              "      <td id=\"T_a799e_row6_col3\" class=\"data row6 col3\" >26647.81</td>\n",
              "    </tr>\n",
              "    <tr>\n",
              "      <th id=\"T_a799e_level0_row7\" class=\"row_heading level0 row7\" >max</th>\n",
              "      <td id=\"T_a799e_row7_col0\" class=\"data row7 col0\" >150000.00</td>\n",
              "      <td id=\"T_a799e_row7_col1\" class=\"data row7 col1\" >199999.00</td>\n",
              "      <td id=\"T_a799e_row7_col2\" class=\"data row7 col2\" >33.00</td>\n",
              "      <td id=\"T_a799e_row7_col3\" class=\"data row7 col3\" >150000.00</td>\n",
              "    </tr>\n",
              "  </tbody>\n",
              "</table>\n"
            ]
          },
          "metadata": {},
          "execution_count": 37
        }
      ]
    },
    {
      "cell_type": "code",
      "source": [
        "fig, axes = plt.subplots(1, 3, figsize=(12, 3))\n",
        "# plot 1 (price)\n",
        "sns.boxplot(x=df['price'], ax=axes[0])\n",
        "axes[0].set_title('price boxplot')\n",
        "axes[0].set_xlabel('price ($)')\n",
        "axes[0].tick_params(axis='x', rotation=-45)\n",
        "\n",
        "# plot 2 (odometer)\n",
        "sns.boxplot(x=df['odometer'], ax=axes[1])\n",
        "axes[1].set_title('odometer boxplot')\n",
        "axes[1].set_xlabel('miles ($)')\n",
        "axes[1].tick_params(axis='x', rotation=-45)\n",
        "\n",
        "# plot 3 (brand_value)\n",
        "sns.boxplot(x=df['brand_value'], ax=axes[2])\n",
        "axes[2].set_title('brand_value boxplot')\n",
        "axes[2].set_xlabel('price ($)')\n",
        "axes[2].tick_params(axis='x', rotation=-45)\n",
        "\n",
        "plt.show()"
      ],
      "metadata": {
        "colab": {
          "base_uri": "https://localhost:8080/",
          "height": 366
        },
        "id": "QjpVxQPOGq_v",
        "outputId": "473af611-7ee7-48d7-8a9f-325bda6acf35"
      },
      "execution_count": null,
      "outputs": [
        {
          "output_type": "display_data",
          "data": {
            "text/plain": [
              "<Figure size 1200x300 with 3 Axes>"
            ],
            "image/png": "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\n"
          },
          "metadata": {}
        }
      ]
    },
    {
      "cell_type": "markdown",
      "metadata": {
        "id": "anqzOWYyhZnW"
      },
      "source": [
        "### Modeling\n",
        "\n",
        "`With your (almost?) final dataset in hand, it is now time to build some models.  Here, you should build a number of different regression models with the price as the target.  In building your models, you should explore different parameters and be sure to cross-validate your findings.`"
      ]
    },
    {
      "cell_type": "markdown",
      "source": [
        "Various model permutations will be investigated using `LinearRegression`, `PolynomialFeatures`, `SequentialFeatureSelector` and `GridSearchCV` classes."
      ],
      "metadata": {
        "id": "fkzC-sZ4RYAX"
      }
    },
    {
      "cell_type": "code",
      "source": [
        "# create test/train split\n",
        "# odometer, age, brand_value\n",
        "X = df.drop('price', axis = 1)\n",
        "y = df[['price']]\n",
        "X_train, X_test, y_train, y_test = train_test_split(X, y, test_size = 0.3, random_state = 42)"
      ],
      "metadata": {
        "id": "CGviCd1pl6bv"
      },
      "execution_count": null,
      "outputs": []
    },
    {
      "cell_type": "code",
      "source": [
        "def print_error_loss(pipeline, X_train, y_train, X_test, y_test):\n",
        "  train_mse = mean_squared_error(pipeline.predict(X_train), y_train)\n",
        "  test_mse = mean_squared_error(pipeline.predict(X_test), y_test)\n",
        "\n",
        "  train_mae = mean_absolute_error(pipeline.predict(X_train), y_train)\n",
        "  test_mae = mean_absolute_error(pipeline.predict(X_test), y_test)\n",
        "\n",
        "  print('train | mse: ' + str(round(train_mse, 2)) + ' | mae: ' + str(round(train_mae, 2)))\n",
        "  print('test  | mse: ' + str(round(test_mse, 2)) + ' | mae: ' + str(round(test_mae, 2)))"
      ],
      "metadata": {
        "id": "EQ4xrVM0pXIr"
      },
      "execution_count": null,
      "outputs": []
    },
    {
      "cell_type": "code",
      "source": [
        "def print_coefficients(pipeline, step_name):\n",
        "  print(pipeline.named_steps[step_name].coef_)"
      ],
      "metadata": {
        "id": "cXp-EOuLqtxM"
      },
      "execution_count": null,
      "outputs": []
    },
    {
      "cell_type": "code",
      "source": [
        "def print_dataframe_features(dataframe):\n",
        "  print('features | ' + str(dataframe.columns))"
      ],
      "metadata": {
        "id": "LtZhR64OtmEF"
      },
      "execution_count": null,
      "outputs": []
    },
    {
      "cell_type": "code",
      "source": [
        "def print_pipeline_features(pipeline, named_step):\n",
        "  print('features | ' + str(pipeline.named_steps[named_step].get_feature_names_out()))"
      ],
      "metadata": {
        "id": "5y1qz7XBuuMl"
      },
      "execution_count": null,
      "outputs": []
    },
    {
      "cell_type": "code",
      "source": [
        "def print_feature_mask(pipeline, named_step = 'selector'):\n",
        "  print(pipeline.named_steps[named_step].get_support())"
      ],
      "metadata": {
        "id": "cfwuCmRE1Gom"
      },
      "execution_count": null,
      "outputs": []
    },
    {
      "cell_type": "code",
      "source": [
        "# Simple Linear Regression Model\n",
        "pipe = Pipeline([('model', LinearRegression())])\n",
        "pipe.fit(X_train, y_train)\n",
        "\n",
        "print_error_loss(pipe, X_train, y_train, X_test, y_test)\n",
        "print_dataframe_features(X_train)\n",
        "print_coefficients(pipe, 'model')"
      ],
      "metadata": {
        "colab": {
          "base_uri": "https://localhost:8080/"
        },
        "id": "H5ASx65SrMf0",
        "outputId": "cfc1005a-b793-4be2-d440-78371f32e703"
      },
      "execution_count": null,
      "outputs": [
        {
          "output_type": "stream",
          "name": "stdout",
          "text": [
            "train | mse: 54045993.65 | mae: 4752.88\n",
            "test  | mse: 53049992.19 | mae: 4720.23\n",
            "features | Index(['odometer', 'age', 'brand_value'], dtype='object')\n",
            "[[-4.54048899e-02 -5.55836036e+02  8.30617221e-01]]\n"
          ]
        }
      ]
    },
    {
      "cell_type": "code",
      "source": [
        "# Linear Regression with Polynomial Features\n",
        "pipe = Pipeline([\n",
        "    ('poly_features', PolynomialFeatures(degree=2, include_bias = False)),\n",
        "    ('scale', StandardScaler()),\n",
        "    ('model', LinearRegression())\n",
        "    ])\n",
        "\n",
        "pipe.fit(X_train, y_train)\n",
        "\n",
        "print_error_loss(pipe, X_train, y_train, X_test, y_test)\n",
        "print_pipeline_features(pipe, 'poly_features')\n",
        "print_coefficients(pipe, 'model')"
      ],
      "metadata": {
        "colab": {
          "base_uri": "https://localhost:8080/"
        },
        "id": "C6__4yVzr8Ga",
        "outputId": "0b4741da-3ce9-4a44-fb43-9c9d40242175"
      },
      "execution_count": null,
      "outputs": [
        {
          "output_type": "stream",
          "name": "stdout",
          "text": [
            "train | mse: 50941554.45 | mae: 4535.39\n",
            "test  | mse: 49897827.67 | mae: 4503.13\n",
            "features | ['odometer' 'age' 'brand_value' 'odometer^2' 'odometer age'\n",
            " 'odometer brand_value' 'age^2' 'age brand_value' 'brand_value^2']\n",
            "[[   32.99208959 -6654.0164617  10442.4179885  -1168.9348169\n",
            "   -615.65945455  -207.93300199  4873.09369938 -1962.46748138\n",
            "   1139.73085747]]\n"
          ]
        }
      ]
    },
    {
      "cell_type": "code",
      "source": [
        "# Polynomial Feature Selection with GridSearchCV\n",
        "pipe = Pipeline([\n",
        "    ('poly_features', PolynomialFeatures(degree=2, include_bias = False)),\n",
        "    ('selector', SequentialFeatureSelector(LinearRegression())),\n",
        "    (\"scale\", StandardScaler()),\n",
        "    ('model', LinearRegression())\n",
        "    ])\n",
        "\n",
        "parameters_to_try = {'selector__n_features_to_select' : [1, 2, 3, 4, 5, 6, 7, 8 ]}\n",
        "\n",
        "model_finder = GridSearchCV(\n",
        "    estimator=pipe,\n",
        "    param_grid = parameters_to_try,\n",
        "    scoring = \"neg_mean_squared_error\",\n",
        "    cv = 2) # using cv=2 to reduce processing time\n",
        "\n",
        "model_finder.fit(X_train, y_train)\n",
        "print(model_finder.best_params_)\n",
        "print(model_finder.best_estimator_.named_steps['selector'].get_support())"
      ],
      "metadata": {
        "colab": {
          "base_uri": "https://localhost:8080/"
        },
        "id": "rb4NegZIlLZB",
        "outputId": "b97fefe0-8e50-4a3f-b17a-ddd5ff67f9fa"
      },
      "execution_count": null,
      "outputs": [
        {
          "output_type": "stream",
          "name": "stdout",
          "text": [
            "{'selector__n_features_to_select': 8}\n",
            "[ True  True  True  True  True False  True  True  True]\n"
          ]
        }
      ]
    },
    {
      "cell_type": "code",
      "source": [
        "model_finder.cv_results_"
      ],
      "metadata": {
        "colab": {
          "base_uri": "https://localhost:8080/"
        },
        "id": "ZrLSPzT3VCTk",
        "outputId": "cf007947-4e61-4d0b-82f8-d9d379427c92"
      },
      "execution_count": null,
      "outputs": [
        {
          "output_type": "execute_result",
          "data": {
            "text/plain": [
              "{'mean_fit_time': array([0.4962728 , 1.42752206, 3.32029998, 3.27826178, 4.87970352,\n",
              "        6.13202941, 7.29011321, 8.11598539]),\n",
              " 'std_fit_time': array([0.01704121, 0.03100574, 0.92321384, 0.02980101, 0.23872828,\n",
              "        0.80651104, 0.97720742, 0.64014125]),\n",
              " 'mean_score_time': array([0.01802111, 0.02554798, 0.0279125 , 0.02851844, 0.0333426 ,\n",
              "        0.04502046, 0.04201984, 0.0526557 ]),\n",
              " 'std_score_time': array([0.00036478, 0.00013471, 0.00064623, 0.000741  , 0.00523019,\n",
              "        0.01282299, 0.01207471, 0.01262665]),\n",
              " 'param_selector__n_features_to_select': masked_array(data=[1, 2, 3, 4, 5, 6, 7, 8],\n",
              "              mask=[False, False, False, False, False, False, False, False],\n",
              "        fill_value=999999),\n",
              " 'params': [{'selector__n_features_to_select': 1},\n",
              "  {'selector__n_features_to_select': 2},\n",
              "  {'selector__n_features_to_select': 3},\n",
              "  {'selector__n_features_to_select': 4},\n",
              "  {'selector__n_features_to_select': 5},\n",
              "  {'selector__n_features_to_select': 6},\n",
              "  {'selector__n_features_to_select': 7},\n",
              "  {'selector__n_features_to_select': 8}],\n",
              " 'split0_test_score': array([-75210738.43709275, -57824988.76955768, -53328677.14518917,\n",
              "        -52903159.97989545, -51912562.66456408, -51632422.35944812,\n",
              "        -51526021.56679013, -51511779.34150832]),\n",
              " 'split1_test_score': array([-74123023.89935663, -56422965.12385584, -52142802.5060031 ,\n",
              "        -51822881.48750648, -50824025.94690299, -50570117.59154209,\n",
              "        -50423747.74368158, -50410194.95053007]),\n",
              " 'mean_test_score': array([-74666881.16822469, -57123976.94670676, -52735739.82559614,\n",
              "        -52363020.73370096, -51368294.30573353, -51101269.9754951 ,\n",
              "        -50974884.65523586, -50960987.14601919]),\n",
              " 'std_test_score': array([543857.26886806, 701011.82285092, 592937.31959304, 540139.24619449,\n",
              "        544268.35883055, 531152.38395302, 551136.91155428, 550792.19548913]),\n",
              " 'rank_test_score': array([8, 7, 6, 5, 4, 3, 2, 1], dtype=int32)}"
            ]
          },
          "metadata": {},
          "execution_count": 48
        }
      ]
    },
    {
      "cell_type": "code",
      "source": [
        "plt.figure(figsize=(5,3))\n",
        "plt.xlabel(\"feature count\")\n",
        "plt.ylabel(\"absolute mean_test_score\")\n",
        "plt.title(\"GridSearchCV:\\n mean_test_score vs polynomial feature count\")\n",
        "plt.plot(model_finder.cv_results_['param_selector__n_features_to_select'], model_finder.cv_results_['mean_test_score'] * -1)\n",
        "plt.show()"
      ],
      "metadata": {
        "colab": {
          "base_uri": "https://localhost:8080/",
          "height": 369
        },
        "id": "IffAwxLk7QEi",
        "outputId": "f6c096cc-95d3-44d1-abdf-47c6abff49e5"
      },
      "execution_count": null,
      "outputs": [
        {
          "output_type": "display_data",
          "data": {
            "text/plain": [
              "<Figure size 500x300 with 1 Axes>"
            ],
            "image/png": "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\n"
          },
          "metadata": {}
        }
      ]
    },
    {
      "cell_type": "code",
      "source": [
        "# Model with 8 Polynomial Features\n",
        "pipeline = Pipeline([\n",
        "    ('poly_features', PolynomialFeatures(degree=2, include_bias = False)),\n",
        "    ('selector', SequentialFeatureSelector(LinearRegression(), n_features_to_select=8)),\n",
        "    (\"scale\", StandardScaler()),\n",
        "    ('model', LinearRegression())\n",
        "    ])\n",
        "\n",
        "pipeline.fit(X_train, y_train)\n",
        "\n",
        "print_error_loss(pipeline, X_train, y_train, X_test, y_test)\n",
        "print_pipeline_features(pipeline, 'poly_features')\n",
        "print_feature_mask(pipeline)\n",
        "print_coefficients(pipeline, 'model')"
      ],
      "metadata": {
        "colab": {
          "base_uri": "https://localhost:8080/"
        },
        "id": "Tr8MN1Y5zXPv",
        "outputId": "eacfb61c-5cc3-4fc6-a5c2-deb014a0862e"
      },
      "execution_count": null,
      "outputs": [
        {
          "output_type": "stream",
          "name": "stdout",
          "text": [
            "train | mse: 50947636.97 | mae: 4534.84\n",
            "test  | mse: 49909045.38 | mae: 4502.48\n",
            "features | ['odometer' 'age' 'brand_value' 'odometer^2' 'odometer age'\n",
            " 'odometer brand_value' 'age^2' 'age brand_value' 'brand_value^2']\n",
            "[ True  True  True  True  True False  True  True  True]\n",
            "[[ -227.83955423 -6568.03234198 10311.68250455 -1133.74269145\n",
            "   -542.30157023  4821.34013394 -2053.93461834  1209.97858507]]\n"
          ]
        }
      ]
    },
    {
      "cell_type": "code",
      "source": [
        "# Model with 3 Polynomial Features\n",
        "pipeline = Pipeline([\n",
        "    ('poly_features', PolynomialFeatures(degree=2, include_bias = False)),\n",
        "    ('selector', SequentialFeatureSelector(LinearRegression(), n_features_to_select=3)),\n",
        "    (\"scale\", StandardScaler()),\n",
        "    ('model', LinearRegression())\n",
        "    ])\n",
        "\n",
        "pipeline.fit(X_train, y_train)\n",
        "\n",
        "print_error_loss(pipeline, X_train, y_train, X_test, y_test)\n",
        "print_pipeline_features(pipeline, 'poly_features')\n",
        "print_feature_mask(pipeline)\n",
        "print_coefficients(pipeline, 'model')"
      ],
      "metadata": {
        "colab": {
          "base_uri": "https://localhost:8080/"
        },
        "id": "cAEWPOVC82Jm",
        "outputId": "ca96fa8c-506d-4e5b-eb78-c8175a64c556"
      },
      "execution_count": null,
      "outputs": [
        {
          "output_type": "stream",
          "name": "stdout",
          "text": [
            "train | mse: 52721177.82 | mae: 4596.74\n",
            "test  | mse: 51806692.5 | mae: 4568.97\n",
            "features | ['odometer' 'age' 'brand_value' 'odometer^2' 'odometer age'\n",
            " 'odometer brand_value' 'age^2' 'age brand_value' 'brand_value^2']\n",
            "[ True False  True False False False False  True False]\n",
            "[[-2561.29745011 12904.2621566  -3587.57076293]]\n"
          ]
        }
      ]
    },
    {
      "cell_type": "markdown",
      "metadata": {
        "id": "yUxSLe55hZnW"
      },
      "source": [
        "### Evaluation\n",
        "\n",
        "`With some modeling accomplished, we aim to reflect on what we identify as a high-quality model and what we are able to learn from this.  We should review our business objective and explore how well we can provide meaningful insight into drivers of used car prices.  Your goal now is to distill your findings and determine whether the earlier phases need revisitation and adjustment or if you have information of value to bring back to your client.`"
      ]
    },
    {
      "cell_type": "markdown",
      "source": [
        "After investigating model performance, the linear regression with 8 selected polynomial features performed the best, however it doesn't perform significantly better than a simpler linear regression model with 3 polynomial features."
      ],
      "metadata": {
        "id": "Qe1E31kASL-k"
      }
    },
    {
      "cell_type": "markdown",
      "source": [
        "#### Model Performance Summary\n",
        "| Model Description                   | features | train-mse   | train-mae  | test-mse  | test-mae | comment                    |\n",
        "| ------------------------------------|---------:|------------:|-----------:|----------:|---------:|----------------------------|\n",
        "|Simple LR                            |         3| 54045993.65 |     4752.88|53049992.19|  4720.23 |                            |\n",
        "|LR with Polynomial Features          |         9| 50941554.45 |     4535.39|49897827.67|  4503.13 |                            |\n",
        "|LR with Selected Polynomial Features |         8|             |            |50960987.15|          | Calculated by GridSearchCV |\n",
        "|LR with Selected Polynomial Features |         8| 50947636.97 |     4534.84|49909045.38|   4502.48| Best Performance           |\n",
        "|LR with Selected Polynomial Features |         3| 52721177.82 |     4596.74|51806692.50|    4568.97|                            |"
      ],
      "metadata": {
        "id": "UBarhm-6Gnlx"
      }
    },
    {
      "cell_type": "markdown",
      "metadata": {
        "id": "4Sm1XnedhZnW"
      },
      "source": [
        "### Deployment\n",
        "\n",
        "`Now that we've settled on our models and findings, it is time to deliver the information to the client.  You should organize your work as a basic report that details your primary findings.  Keep in mind that your audience is a group of used car dealers interested in fine-tuning their inventory.`"
      ]
    },
    {
      "cell_type": "markdown",
      "source": [
        "The dataset does not provide enough meaningful information to identify vehicle features that customers find valuable. The mean absolute error for predicting price for the highest performing model is \\$4534.84. With the mean vehicle value of \\$20105.75, the error is almost a quarter of the price of the average vehicle. Therefore the model is not reliable for predicting the price of vehicles nor for inferring the vehicle characteristics that interest customers. Even though the model is flawed, the model does report the 'brand_value' as the important feature in determining the price of the vehicle with a 0.81 correlation to the price. The 'age' features has a -0.56 correlation followed by 'odometer' with a -0.54 correlation.\n",
        "\n",
        "Model creation wasn't successful because the provided dataset does not contain meaningful feature information that customer typically look for in a vehicle. For example, features like gas mileage, passenger capacity, luggage space, air conditioning, etc. were absent from the dataset.\n",
        "\n",
        "If the client would like to create a machine learning model that can predict the price of vehicles and infer the characteristics that customers value in a car, then more detailed vehicle and customer information is required. Vehicle information is just one side of a transaction. Customer information would be helpful in matching customer and regional demographics to vehicle preferences.\n",
        "\n",
        "One approach with the current dataset is to leverage the VIN to obtain more objective information about the vehicle. This would require making API calls to online resources like nhtsa.gov. However, the VIN would not reveal all vehicle amenities. Additional research into specific manufacturers and models would be necessary to obtain a detailed list of amenities."
      ],
      "metadata": {
        "id": "XSozJM3kbxTC"
      }
    }
  ],
  "metadata": {
    "kernelspec": {
      "display_name": "Python 3",
      "language": "python",
      "name": "python3"
    },
    "language_info": {
      "codemirror_mode": {
        "name": "ipython",
        "version": 3
      },
      "file_extension": ".py",
      "mimetype": "text/x-python",
      "name": "python",
      "nbconvert_exporter": "python",
      "pygments_lexer": "ipython3",
      "version": "3.8.8"
    },
    "colab": {
      "provenance": []
    }
  },
  "nbformat": 4,
  "nbformat_minor": 0
}
