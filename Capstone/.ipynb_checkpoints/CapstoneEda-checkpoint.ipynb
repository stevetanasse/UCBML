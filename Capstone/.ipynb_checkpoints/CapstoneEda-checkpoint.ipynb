{
 "cells": [
  {
   "cell_type": "markdown",
   "metadata": {
    "id": "Ru317HUf4hYM"
   },
   "source": [
    "# IoT Device Classification\n",
    "**Research Question**  \n",
    "Which feature selection approach and machine learning model best classifies known and unknown IOT device network activity?\n",
    "\n",
    "**Original Data Source**  \n",
    "[Machine-Learning-for-Cybersecurity-Cookbook/Chapter05\n",
    "/IoT Device Type Identification Using Machine Learning](https://github.com/PacktPublishing/Machine-Learning-for-Cybersecurity-Cookbook/tree/master/Chapter05/IoT%20Device%20Type%20Identification%20Using%20Machine%20Learning)\n",
    "\n",
    "**Description**  \n",
    "Identifying IOT network connection activity (security cameras, thermostats, etc.) is relevant for network security. Some network devices have logs or applications allowing you to view device connections, but sometimes meaningful information about the device type is missing. The goal of this machine learning project is to classify IoT network connections as their recognized type or as \"unknown\" when connections cannot be identified, in order to alert the user to scrutinize that network activity."
   ]
  },
  {
   "cell_type": "markdown",
   "metadata": {
    "id": "ibBbQnBL465H"
   },
   "source": [
    "### Imports"
   ]
  },
  {
   "cell_type": "code",
   "execution_count": 3,
   "metadata": {
    "colab": {
     "base_uri": "https://localhost:8080/"
    },
    "id": "hFYO6sYC5DYZ",
    "outputId": "2a73a890-a7c8-4b46-dcd3-62277d70806a"
   },
   "outputs": [
    {
     "name": "stdout",
     "output_type": "stream",
     "text": [
      "Requirement already satisfied: category_encoders in c:\\users\\steve\\anaconda3\\lib\\site-packages (2.8.1)\n",
      "Requirement already satisfied: numpy>=1.14.0 in c:\\users\\steve\\anaconda3\\lib\\site-packages (from category_encoders) (1.26.4)\n",
      "Requirement already satisfied: pandas>=1.0.5 in c:\\users\\steve\\anaconda3\\lib\\site-packages (from category_encoders) (2.2.2)\n",
      "Requirement already satisfied: patsy>=0.5.1 in c:\\users\\steve\\anaconda3\\lib\\site-packages (from category_encoders) (0.5.6)\n",
      "Requirement already satisfied: scikit-learn>=1.6.0 in c:\\users\\steve\\anaconda3\\lib\\site-packages (from category_encoders) (1.6.1)\n",
      "Requirement already satisfied: scipy>=1.0.0 in c:\\users\\steve\\anaconda3\\lib\\site-packages (from category_encoders) (1.13.1)\n",
      "Requirement already satisfied: statsmodels>=0.9.0 in c:\\users\\steve\\anaconda3\\lib\\site-packages (from category_encoders) (0.14.2)\n",
      "Requirement already satisfied: python-dateutil>=2.8.2 in c:\\users\\steve\\anaconda3\\lib\\site-packages (from pandas>=1.0.5->category_encoders) (2.9.0.post0)\n",
      "Requirement already satisfied: pytz>=2020.1 in c:\\users\\steve\\anaconda3\\lib\\site-packages (from pandas>=1.0.5->category_encoders) (2024.1)\n",
      "Requirement already satisfied: tzdata>=2022.7 in c:\\users\\steve\\anaconda3\\lib\\site-packages (from pandas>=1.0.5->category_encoders) (2023.3)\n",
      "Requirement already satisfied: six in c:\\users\\steve\\anaconda3\\lib\\site-packages (from patsy>=0.5.1->category_encoders) (1.16.0)\n",
      "Requirement already satisfied: joblib>=1.2.0 in c:\\users\\steve\\anaconda3\\lib\\site-packages (from scikit-learn>=1.6.0->category_encoders) (1.4.2)\n",
      "Requirement already satisfied: threadpoolctl>=3.1.0 in c:\\users\\steve\\anaconda3\\lib\\site-packages (from scikit-learn>=1.6.0->category_encoders) (3.6.0)\n",
      "Requirement already satisfied: packaging>=21.3 in c:\\users\\steve\\anaconda3\\lib\\site-packages (from statsmodels>=0.9.0->category_encoders) (23.2)\n"
     ]
    }
   ],
   "source": [
    "# pip installations\n",
    "!pip install category_encoders"
   ]
  },
  {
   "cell_type": "code",
   "execution_count": 7,
   "metadata": {
    "id": "PzGgUu700ltf"
   },
   "outputs": [],
   "source": [
    "import pandas as pd\n",
    "import seaborn as sns\n",
    "import numpy as np\n",
    "\n",
    "from category_encoders import JamesSteinEncoder\n",
    "from collections import namedtuple\n",
    "from imblearn.over_sampling import SMOTE\n",
    "from imblearn.pipeline import Pipeline as ImblearnPipeline\n",
    "from matplotlib import pyplot as plt\n",
    "from sklearn.compose import ColumnTransformer\n",
    "from sklearn.dummy import DummyClassifier\n",
    "from sklearn.experimental import enable_halving_search_cv\n",
    "from sklearn.linear_model import LogisticRegression, Lasso, LassoCV\n",
    "from sklearn.metrics import classification_report, confusion_matrix, ConfusionMatrixDisplay, multilabel_confusion_matrix, recall_score, precision_score, f1_score, average_precision_score, precision_recall_curve\n",
    "from sklearn.model_selection import train_test_split, GridSearchCV, HalvingGridSearchCV\n",
    "from sklearn.multiclass import OneVsRestClassifier\n",
    "from sklearn.neighbors import KNeighborsClassifier\n",
    "from sklearn.pipeline import Pipeline\n",
    "from sklearn.preprocessing import FunctionTransformer, MinMaxScaler, StandardScaler\n",
    "from sklearn.svm import SVC\n",
    "from sklearn.tree import DecisionTreeClassifier, export_text, plot_tree"
   ]
  },
  {
   "cell_type": "markdown",
   "metadata": {
    "id": "emPe_rsX5Tnw"
   },
   "source": [
    "### Functions and Methods"
   ]
  },
  {
   "cell_type": "markdown",
   "metadata": {
    "id": "oOX5M-veNnkH"
   },
   "source": [
    "#### General"
   ]
  },
  {
   "cell_type": "code",
   "execution_count": 11,
   "metadata": {
    "id": "bkfysxmFNt2-"
   },
   "outputs": [],
   "source": [
    "def get_column_value_counts(dataframe):\n",
    "\n",
    "  rows = []\n",
    "\n",
    "  for column_index in range(len(dataframe.columns)):\n",
    "    column_name = dataframe.columns[column_index]\n",
    "    value_counts = dataframe[column_name].value_counts()\n",
    "    value_count = len(value_counts)\n",
    "\n",
    "    unique_values = ''\n",
    "    for index in value_counts.index:\n",
    "      unique_values += str(index) + \", \"\n",
    "\n",
    "    rows.append({'column_name': column_name, 'value_count': value_count, 'unique_values': unique_values})\n",
    "\n",
    "  column_value_counts_df = pd.DataFrame(rows, columns=['column_name', 'value_count', 'unique_values'])\n",
    "\n",
    "  return column_value_counts_df"
   ]
  },
  {
   "cell_type": "markdown",
   "metadata": {
    "id": "rFSAU2OjtjYR"
   },
   "source": [
    "#### EDA"
   ]
  },
  {
   "cell_type": "code",
   "execution_count": 14,
   "metadata": {
    "id": "9uwzKRNh0utz"
   },
   "outputs": [],
   "source": [
    "def get_nan_stats(dataframe):\n",
    "  nan_stats_df = pd.DataFrame(dataframe.isnull().sum(), columns=['count'])\n",
    "  nan_stats_df['percentage'] = round((nan_stats_df['count'] * 100)/ dataframe.shape[0], 2)\n",
    "\n",
    "  return nan_stats_df"
   ]
  },
  {
   "cell_type": "code",
   "execution_count": 16,
   "metadata": {
    "id": "aq4gzl275c7x"
   },
   "outputs": [],
   "source": [
    "def get_string_of_column_values(dataframe, column_name):\n",
    "  series = dataframe[column_name].value_counts()\n",
    "\n",
    "  column_values = ''\n",
    "  for index, value in zip(series.index, series.values):\n",
    "    column_values += str(index) + \", \"\n",
    "\n",
    "  return column_values[:-2] if len(column_values) >= 2 else column_values"
   ]
  },
  {
   "cell_type": "code",
   "execution_count": 18,
   "metadata": {
    "id": "7ipIMoxT5dD4"
   },
   "outputs": [],
   "source": [
    "\n",
    "def print_column_value_counts(dataframe, threshold = 16):\n",
    "  for column_index in range(len(dataframe.columns)):\n",
    "    column_name = dataframe.columns[column_index]\n",
    "    value_counts = len(dataframe[column_name].value_counts())\n",
    "\n",
    "    # print the column values if the number is limited\n",
    "    column_values = \"\"\n",
    "    if value_counts < threshold:\n",
    "      column_values = get_string_of_column_values(dataframe, column_name)\n",
    "\n",
    "    print(str(column_index) + \": \" + column_name + \": \" + str(value_counts) + \" values: \" + column_values)"
   ]
  },
  {
   "cell_type": "markdown",
   "metadata": {
    "id": "sr3SDd5ptaVk"
   },
   "source": [
    "#### Data Cleaning and Transformation"
   ]
  },
  {
   "cell_type": "code",
   "execution_count": 21,
   "metadata": {
    "id": "EFIJj_HYt3Zf"
   },
   "outputs": [],
   "source": [
    "'''\n",
    "Map devices in 'treat_as_unknown_devices' argument to 'unknown' in 'device_category' column.\n",
    "If 'treat_as_unknown_devices' is empty return the original dataframe.\n",
    "'''\n",
    "def change_device_category_to_unknown(dataframe, treat_as_unknown_devices):\n",
    "  # return if treat_as_unknown_devices is an empty collection\n",
    "  if not treat_as_unknown_devices:\n",
    "    return dataframe\n",
    "\n",
    "  # lowercase all device names in the collection\n",
    "  treat_as_unknown_devices_lc = [s.lower() for s in treat_as_unknown_devices]\n",
    "\n",
    "  # confirm the devices that will be mapped to unknown exist in the device_category column\n",
    "  device_categories = sorted(dataframe['device_category'].unique())\n",
    "  devices_exist = all(device in device_categories for device in treat_as_unknown_devices_lc)\n",
    "  if not devices_exist:\n",
    "    missing_devices = [device for device in treat_as_unknown_devices_lc if device not in device_categories]\n",
    "    raise ValueError(f\"Correct the 'treat_as_unknown_devices' argument. The following devices were not found in the dataset: {missing_devices}\")\n",
    "\n",
    "  # map devices in treat_as_unknown_devices array as 'unknown'\n",
    "  replacement_dict = {}\n",
    "  for device in treat_as_unknown_devices_lc:\n",
    "    replacement_dict[device] = 'unknown'\n",
    "\n",
    "  dataframe['device_category'] = dataframe['device_category'].replace(replacement_dict)\n",
    "\n",
    "  return dataframe"
   ]
  },
  {
   "cell_type": "code",
   "execution_count": 23,
   "metadata": {
    "id": "WI_nSinfPS92"
   },
   "outputs": [],
   "source": [
    "'''\n",
    "Reprocess original datasets for this machine learning project.\n",
    "1. merge train and test datasets\n",
    "2. lowercase all the values in the device_category column\n",
    "3. map devices in 'treat_as_unknown_devices'\n",
    "4. remove columns with only one unique value\n",
    "'''\n",
    "def create_revised_IoT_dataset(train_df, test_df, treat_as_unknown_devices):\n",
    "  merged_df = pd.concat([train_df, test_df])\n",
    "\n",
    "  # lowercase all the values in the device_category column\n",
    "  merged_df.loc[:, 'device_category'] = merged_df.loc[:, 'device_category'].astype(str).str.lower()\n",
    "\n",
    "  # map devices in 'treat_as_unknown_devices' to 'unknown' device, if they are present\n",
    "  merged_df = change_device_category_to_unknown(merged_df, treat_as_unknown_devices)\n",
    "\n",
    "  # remove columns with only one unique value\n",
    "  columns_to_drop = get_columns_with_one_unique_value(merged_df)\n",
    "  merged_df = merged_df.drop(columns=columns_to_drop)\n",
    "\n",
    "  return merged_df"
   ]
  },
  {
   "cell_type": "code",
   "execution_count": 25,
   "metadata": {
    "id": "Oi4BE8WUMqsw"
   },
   "outputs": [],
   "source": [
    "'''\n",
    "Sets the string values of a column to lowercase.\n",
    "'''\n",
    "def set_column_to_lowercase(dataframe, column_name):\n",
    "  dataframe.loc[:, column_name] = dataframe.loc[:, column_name].astype(str).str.lower()\n",
    "  return dataframe"
   ]
  },
  {
   "cell_type": "code",
   "execution_count": 27,
   "metadata": {
    "id": "rfeceYHnM5C-"
   },
   "outputs": [],
   "source": [
    "def get_columns_with_one_unique_value(dataframe):\n",
    "  df = get_column_value_counts(dataframe)\n",
    "  columns_to_drop = df[df['value_count'] == 1]['column_name'].values\n",
    "  # dataframe = dataframe.drop(columns=columns_to_drop)\n",
    "\n",
    "  return columns_to_drop\n"
   ]
  },
  {
   "cell_type": "markdown",
   "metadata": {
    "id": "T1v5tm3uYAyr"
   },
   "source": [
    "#### Graphing Functions"
   ]
  },
  {
   "cell_type": "code",
   "execution_count": 30,
   "metadata": {
    "id": "eCn4hI72lcGE"
   },
   "outputs": [],
   "source": [
    "def plot_kbest_scores(select_k_best):\n",
    "  scores = select_k_best.scores_\n",
    "  max_score = max(select_k_best.scores_)\n",
    "  min_score = min(select_k_best.scores_)\n",
    "\n",
    "  # Create histogram\n",
    "  bins = np.linspace(min_score, max_score, 30)\n",
    "  print(type(bins))\n",
    "  hist, bin_edges = np.histogram(scores, bins=bins)\n",
    "\n",
    "  # Create descending x-axis\n",
    "  bin_centers = (bin_edges[:-1] + bin_edges[1:]) / 2\n",
    "  bin_centers_desc = bin_centers[::-1]\n",
    "  hist_desc = hist[::-1]\n",
    "\n",
    "  # Cumulative count as scores approach 0\n",
    "  cumulative_counts = np.cumsum(hist_desc)\n",
    "\n",
    "  plt.figure(figsize=(10, 5))\n",
    "  plt.bar(bin_centers_desc, hist_desc, width=0.04, alpha=0.6, label='Frequency (Descending Score)')\n",
    "  plt.plot(bin_centers_desc, cumulative_counts, color='red', marker='o', label='Cumulative Count')\n",
    "  plt.xlabel('KBest Score')\n",
    "  plt.ylabel('Count')\n",
    "  plt.title('KBest Score Frequency and Cumulative Count')\n",
    "  plt.legend()\n",
    "  plt.grid(True)\n",
    "  plt.gca().invert_xaxis()\n",
    "  plt.show()"
   ]
  },
  {
   "cell_type": "code",
   "execution_count": 32,
   "metadata": {
    "id": "5z0VP-aBnhcQ"
   },
   "outputs": [],
   "source": [
    "def plot_confusion_matrix(y_actual, y_predicted_series, title):\n",
    "  cm = confusion_matrix(y_actual, y_predicted_series)\n",
    "  class_labels = ovr.classes_\n",
    "  class_labels= np.append(class_labels, 'unknown')\n",
    "  class_labels = sorted(class_labels)\n",
    "\n",
    "  display = ConfusionMatrixDisplay(confusion_matrix=cm, display_labels=class_labels)\n",
    "  fig, ax = plt.subplots(figsize=(6, 6))\n",
    "  display.plot(ax=ax, cmap='Blues')\n",
    "  plt.setp(ax.get_xticklabels(), rotation=45, ha=\"right\")\n",
    "  ax.set_title(title)\n",
    "  plt.show()"
   ]
  },
  {
   "cell_type": "markdown",
   "metadata": {
    "id": "8AX4OUOIpLIP"
   },
   "source": [
    "#### Calculating Predictions and Results"
   ]
  },
  {
   "cell_type": "code",
   "execution_count": 35,
   "metadata": {
    "id": "-xmmu3JBuLSz"
   },
   "outputs": [],
   "source": [
    "def get_all_class_labels(model):\n",
    "  class_labels = model.classes_\n",
    "  class_labels= np.append(class_labels, 'unknown')\n",
    "  class_labels = sorted(class_labels)\n",
    "\n",
    "  return class_labels"
   ]
  },
  {
   "cell_type": "code",
   "execution_count": 37,
   "metadata": {
    "id": "ktMOE7CxpW1m"
   },
   "outputs": [],
   "source": [
    "def predict_device_or_unknown(model, X, threshold=0.5):\n",
    "  predictions = []\n",
    "  probs = model.predict_proba(X)\n",
    "\n",
    "  for prob in probs:\n",
    "    max_prob = np.max(prob)\n",
    "    if max_prob < threshold:\n",
    "      predictions.append('unknown')\n",
    "    else:\n",
    "      predictions.append(model.classes_[np.argmax(prob)])\n",
    "\n",
    "  return pd.Series(predictions)"
   ]
  },
  {
   "cell_type": "markdown",
   "metadata": {
    "id": "yp0i5OZ85KCQ"
   },
   "source": [
    "### Data"
   ]
  },
  {
   "cell_type": "markdown",
   "metadata": {
    "id": "_vg9xA5Gkguv"
   },
   "source": [
    "#### Loading Datasets"
   ]
  },
  {
   "cell_type": "markdown",
   "metadata": {
    "id": "v88O8hH9Ccym"
   },
   "source": [
    "#### Using Colab and Google Drive"
   ]
  },
  {
   "cell_type": "code",
   "execution_count": 15,
   "metadata": {
    "colab": {
     "base_uri": "https://localhost:8080/"
    },
    "id": "BwtSmybazFp4",
    "outputId": "8eb939e1-6bf5-40c8-cbe6-d68873dab8ad"
   },
   "outputs": [
    {
     "name": "stdout",
     "output_type": "stream",
     "text": [
      "Mounted at /content/drive\n"
     ]
    }
   ],
   "source": [
    "# from google.colab import drive\n",
    "# drive.mount('/content/drive')"
   ]
  },
  {
   "cell_type": "code",
   "execution_count": 16,
   "metadata": {
    "id": "HotFoaHk2Qqp"
   },
   "outputs": [],
   "source": [
    "# gd_data_path = '/content/drive/MyDrive/UCB/Assignments/Capstone/data/'\n",
    "# train_csv = 'iot_devices_train.csv'\n",
    "# test_csv = 'iot_devices_test.csv'"
   ]
  },
  {
   "cell_type": "code",
   "execution_count": 17,
   "metadata": {
    "id": "pmcz762I4j4Q"
   },
   "outputs": [],
   "source": [
    "# original_train_df = pd.read_csv(gd_data_path + train_csv)\n",
    "# original_test_df = pd.read_csv(gd_data_path + test_csv)"
   ]
  },
  {
   "cell_type": "markdown",
   "metadata": {
    "id": "_iOm-WErCosC"
   },
   "source": [
    "#### Using Jupyter and Local Filesystem"
   ]
  },
  {
   "cell_type": "code",
   "execution_count": 41,
   "metadata": {},
   "outputs": [],
   "source": [
    "fs_data_path = 'data/'\n",
    "train_csv = 'iot_devices_train.csv'\n",
    "test_csv = 'iot_devices_test.csv'"
   ]
  },
  {
   "cell_type": "code",
   "execution_count": 55,
   "metadata": {},
   "outputs": [],
   "source": [
    "original_train_df = pd.read_csv(fs_data_path + train_csv)\n",
    "original_test_df = pd.read_csv(fs_data_path + test_csv)"
   ]
  },
  {
   "cell_type": "markdown",
   "metadata": {
    "id": "vV6ULidsktLG"
   },
   "source": [
    "#### Create Train-Validation-Test Splits\n",
    "This section changes the classification of two randomly selected devices from the original dataset, \"security_camera\" and \"tv\", to the \"unknown\" classification. Only known devices are included in the training data. Unknown devices are included in the validation and test data. The original datasets were already split into training and test datasets. To create the new training, validation and test splits, the original training and test data is merged and the unknown classifications are excluded from the training data.\n",
    "\n",
    "Columns containing only one unique value are dropped from the dataset."
   ]
  },
  {
   "cell_type": "code",
   "execution_count": 58,
   "metadata": {
    "colab": {
     "base_uri": "https://localhost:8080/",
     "height": 147
    },
    "id": "uUfe2MXR0j3V",
    "outputId": "e6986ace-e7ac-47ea-d49f-d338c6a68747"
   },
   "outputs": [
    {
     "name": "stdout",
     "output_type": "stream",
     "text": [
      "(1000, 298)\n"
     ]
    },
    {
     "data": {
      "text/html": [
       "<div>\n",
       "<style scoped>\n",
       "    .dataframe tbody tr th:only-of-type {\n",
       "        vertical-align: middle;\n",
       "    }\n",
       "\n",
       "    .dataframe tbody tr th {\n",
       "        vertical-align: top;\n",
       "    }\n",
       "\n",
       "    .dataframe thead th {\n",
       "        text-align: right;\n",
       "    }\n",
       "</style>\n",
       "<table border=\"1\" class=\"dataframe\">\n",
       "  <thead>\n",
       "    <tr style=\"text-align: right;\">\n",
       "      <th></th>\n",
       "      <th>ack</th>\n",
       "      <th>ack_A</th>\n",
       "      <th>ack_B</th>\n",
       "      <th>bytes</th>\n",
       "      <th>bytes_A</th>\n",
       "      <th>bytes_A_B_ratio</th>\n",
       "      <th>bytes_B</th>\n",
       "      <th>ds_field_A</th>\n",
       "      <th>ds_field_B</th>\n",
       "      <th>duration</th>\n",
       "      <th>...</th>\n",
       "      <th>suffix_is_co.il</th>\n",
       "      <th>suffix_is_com</th>\n",
       "      <th>suffix_is_com.sg</th>\n",
       "      <th>suffix_is_else</th>\n",
       "      <th>suffix_is_empty_char_value</th>\n",
       "      <th>suffix_is_googleapis.com</th>\n",
       "      <th>suffix_is_net</th>\n",
       "      <th>suffix_is_org</th>\n",
       "      <th>suffix_is_unresolved</th>\n",
       "      <th>device_category</th>\n",
       "    </tr>\n",
       "  </thead>\n",
       "  <tbody>\n",
       "    <tr>\n",
       "      <th>0</th>\n",
       "      <td>9</td>\n",
       "      <td>5</td>\n",
       "      <td>5</td>\n",
       "      <td>1213</td>\n",
       "      <td>743</td>\n",
       "      <td>0.713924</td>\n",
       "      <td>668</td>\n",
       "      <td>0</td>\n",
       "      <td>0</td>\n",
       "      <td>1.5756</td>\n",
       "      <td>...</td>\n",
       "      <td>0</td>\n",
       "      <td>0</td>\n",
       "      <td>0</td>\n",
       "      <td>1</td>\n",
       "      <td>0</td>\n",
       "      <td>0</td>\n",
       "      <td>0</td>\n",
       "      <td>0</td>\n",
       "      <td>0</td>\n",
       "      <td>security_camera</td>\n",
       "    </tr>\n",
       "  </tbody>\n",
       "</table>\n",
       "<p>1 rows × 298 columns</p>\n",
       "</div>"
      ],
      "text/plain": [
       "   ack  ack_A  ack_B  bytes  bytes_A  bytes_A_B_ratio  bytes_B  ds_field_A  \\\n",
       "0    9      5      5   1213      743         0.713924      668           0   \n",
       "\n",
       "   ds_field_B  duration  ...  suffix_is_co.il  suffix_is_com  \\\n",
       "0           0    1.5756  ...                0              0   \n",
       "\n",
       "   suffix_is_com.sg  suffix_is_else  suffix_is_empty_char_value  \\\n",
       "0                 0               1                           0   \n",
       "\n",
       "   suffix_is_googleapis.com  suffix_is_net  suffix_is_org  \\\n",
       "0                         0              0              0   \n",
       "\n",
       "   suffix_is_unresolved  device_category  \n",
       "0                     0  security_camera  \n",
       "\n",
       "[1 rows x 298 columns]"
      ]
     },
     "execution_count": 58,
     "metadata": {},
     "output_type": "execute_result"
    }
   ],
   "source": [
    "# original training data\n",
    "print(original_train_df.shape)\n",
    "original_train_df.head(1)"
   ]
  },
  {
   "cell_type": "code",
   "execution_count": 60,
   "metadata": {
    "colab": {
     "base_uri": "https://localhost:8080/",
     "height": 147
    },
    "id": "XCdXipbfio8X",
    "outputId": "7c48f802-d46f-4ff4-956f-9308e4ab49be"
   },
   "outputs": [
    {
     "name": "stdout",
     "output_type": "stream",
     "text": [
      "(900, 298)\n"
     ]
    },
    {
     "data": {
      "text/html": [
       "<div>\n",
       "<style scoped>\n",
       "    .dataframe tbody tr th:only-of-type {\n",
       "        vertical-align: middle;\n",
       "    }\n",
       "\n",
       "    .dataframe tbody tr th {\n",
       "        vertical-align: top;\n",
       "    }\n",
       "\n",
       "    .dataframe thead th {\n",
       "        text-align: right;\n",
       "    }\n",
       "</style>\n",
       "<table border=\"1\" class=\"dataframe\">\n",
       "  <thead>\n",
       "    <tr style=\"text-align: right;\">\n",
       "      <th></th>\n",
       "      <th>ack</th>\n",
       "      <th>ack_A</th>\n",
       "      <th>ack_B</th>\n",
       "      <th>bytes</th>\n",
       "      <th>bytes_A</th>\n",
       "      <th>bytes_A_B_ratio</th>\n",
       "      <th>bytes_B</th>\n",
       "      <th>ds_field_A</th>\n",
       "      <th>ds_field_B</th>\n",
       "      <th>duration</th>\n",
       "      <th>...</th>\n",
       "      <th>suffix_is_co.il</th>\n",
       "      <th>suffix_is_com</th>\n",
       "      <th>suffix_is_com.sg</th>\n",
       "      <th>suffix_is_else</th>\n",
       "      <th>suffix_is_empty_char_value</th>\n",
       "      <th>suffix_is_googleapis.com</th>\n",
       "      <th>suffix_is_net</th>\n",
       "      <th>suffix_is_org</th>\n",
       "      <th>suffix_is_unresolved</th>\n",
       "      <th>device_category</th>\n",
       "    </tr>\n",
       "  </thead>\n",
       "  <tbody>\n",
       "    <tr>\n",
       "      <th>0</th>\n",
       "      <td>38</td>\n",
       "      <td>20</td>\n",
       "      <td>18</td>\n",
       "      <td>14698</td>\n",
       "      <td>7814</td>\n",
       "      <td>1.135096</td>\n",
       "      <td>6884</td>\n",
       "      <td>0</td>\n",
       "      <td>0</td>\n",
       "      <td>1.9156</td>\n",
       "      <td>...</td>\n",
       "      <td>0</td>\n",
       "      <td>0</td>\n",
       "      <td>0</td>\n",
       "      <td>1</td>\n",
       "      <td>0</td>\n",
       "      <td>0</td>\n",
       "      <td>0</td>\n",
       "      <td>0</td>\n",
       "      <td>0</td>\n",
       "      <td>baby_monitor</td>\n",
       "    </tr>\n",
       "  </tbody>\n",
       "</table>\n",
       "<p>1 rows × 298 columns</p>\n",
       "</div>"
      ],
      "text/plain": [
       "   ack  ack_A  ack_B  bytes  bytes_A  bytes_A_B_ratio  bytes_B  ds_field_A  \\\n",
       "0   38     20     18  14698     7814         1.135096     6884           0   \n",
       "\n",
       "   ds_field_B  duration  ...  suffix_is_co.il  suffix_is_com  \\\n",
       "0           0    1.9156  ...                0              0   \n",
       "\n",
       "   suffix_is_com.sg  suffix_is_else  suffix_is_empty_char_value  \\\n",
       "0                 0               1                           0   \n",
       "\n",
       "   suffix_is_googleapis.com  suffix_is_net  suffix_is_org  \\\n",
       "0                         0              0              0   \n",
       "\n",
       "   suffix_is_unresolved  device_category  \n",
       "0                     0     baby_monitor  \n",
       "\n",
       "[1 rows x 298 columns]"
      ]
     },
     "execution_count": 60,
     "metadata": {},
     "output_type": "execute_result"
    }
   ],
   "source": [
    "# original testing data\n",
    "print(original_test_df.shape)\n",
    "original_test_df.head(1)"
   ]
  },
  {
   "cell_type": "code",
   "execution_count": 62,
   "metadata": {
    "id": "jlPY77LbkCRq"
   },
   "outputs": [],
   "source": [
    "unknown_devices = ['security_camera', 'tv']\n",
    "df = create_revised_IoT_dataset(original_train_df, original_test_df, unknown_devices)"
   ]
  },
  {
   "cell_type": "code",
   "execution_count": 64,
   "metadata": {
    "colab": {
     "base_uri": "https://localhost:8080/"
    },
    "id": "9c2HcImAkCgj",
    "outputId": "1b9b56dd-0ebf-4392-acd0-4a742cb94e0e"
   },
   "outputs": [
    {
     "name": "stdout",
     "output_type": "stream",
     "text": [
      "original_train_df shape before processing: (1000, 298)\n",
      "original_test_df shape before processing: (900, 298)\n",
      "df shape after processing: (1900, 254)\n",
      "device categories value counts: device_category\n",
      "unknown           400\n",
      "smoke_detector    200\n",
      "thermostat        200\n",
      "watch             200\n",
      "baby_monitor      200\n",
      "motion_sensor     200\n",
      "lights            200\n",
      "socket            200\n",
      "water_sensor      100\n",
      "Name: count, dtype: int64\n"
     ]
    }
   ],
   "source": [
    "print(f'original_train_df shape before processing: {original_train_df.shape}')\n",
    "print(f'original_test_df shape before processing: {original_test_df.shape}')\n",
    "print(f'df shape after processing: {df.shape}')\n",
    "print(f'device categories value counts: {df[\"device_category\"].value_counts()}')\n",
    "# data_train_df_v0 shape before processing: (1000, 298)\n",
    "# data_test_df_v0 shape before processing: (900, 298)\n",
    "# df shape after processing: (1900, 254)"
   ]
  },
  {
   "cell_type": "code",
   "execution_count": 66,
   "metadata": {
    "colab": {
     "base_uri": "https://localhost:8080/"
    },
    "id": "dxEmvQHBiO4e",
    "outputId": "2b399dc0-ac97-4155-9ab9-e81968c28662"
   },
   "outputs": [
    {
     "name": "stdout",
     "output_type": "stream",
     "text": [
      "known_df shape: (1500, 254)\n",
      "unknown_df shape: (400, 254)\n"
     ]
    }
   ],
   "source": [
    "# create dataframes for known and unknown categories\n",
    "known_df = df[~df['device_category'].isin(['unknown'])]\n",
    "unknown_df = df[df['device_category'].isin(['unknown'])]\n",
    "\n",
    "print(f'known_df shape: {known_df.shape}')\n",
    "print(f'unknown_df shape: {unknown_df.shape}')"
   ]
  },
  {
   "cell_type": "code",
   "execution_count": 68,
   "metadata": {
    "id": "YX2gdInFnayc"
   },
   "outputs": [],
   "source": [
    "# create training (X_train, y_train) and test and validation (Xknown_testval, yknown_testval)\n",
    "X_train, Xknown_testval, y_train, yknown_testval = train_test_split(\n",
    "    known_df.drop('device_category', axis=1),\n",
    "    known_df['device_category'],\n",
    "    test_size=0.20,\n",
    "    random_state=42,\n",
    "    stratify=known_df['device_category'])"
   ]
  },
  {
   "cell_type": "code",
   "execution_count": 70,
   "metadata": {
    "id": "nY8et5e_r-Jf"
   },
   "outputs": [],
   "source": [
    "# create test and validation splits\n",
    "known_testval_df = pd.concat([Xknown_testval, yknown_testval], axis=1)\n",
    "testval_df = pd.concat([known_testval_df, unknown_df], axis=0)\n",
    "\n",
    "X_validation, X_test, y_validation, y_test = train_test_split(\n",
    "    testval_df.drop('device_category', axis=1),\n",
    "    testval_df['device_category'],\n",
    "    test_size=0.4,\n",
    "    random_state=42,\n",
    "    stratify=testval_df['device_category'])"
   ]
  },
  {
   "cell_type": "code",
   "execution_count": 72,
   "metadata": {
    "colab": {
     "base_uri": "https://localhost:8080/"
    },
    "id": "YtYpcT0osrgp",
    "outputId": "cd0eceac-f9c8-44bb-cc1a-697eaab6f727"
   },
   "outputs": [
    {
     "name": "stdout",
     "output_type": "stream",
     "text": [
      "X_train: (1200, 253)\n",
      "y_train: (1200,)\n",
      "X_validation: (420, 253)\n",
      "y_validation: (420,)\n",
      "X_test: (280, 253)\n",
      "y_test: (280,)\n"
     ]
    }
   ],
   "source": [
    "print(f\"X_train: {X_train.shape}\")\n",
    "print(f\"y_train: {y_train.shape}\")\n",
    "print(f\"X_validation: {X_validation.shape}\")\n",
    "print(f\"y_validation: {y_validation.shape}\")\n",
    "print(f\"X_test: {X_test.shape}\")\n",
    "print(f\"y_test: {y_test.shape}\")"
   ]
  },
  {
   "cell_type": "code",
   "execution_count": 74,
   "metadata": {
    "colab": {
     "base_uri": "https://localhost:8080/",
     "height": 81
    },
    "id": "lM4pDXsIJ4cP",
    "outputId": "6786cbd4-3a39-4f11-8318-cb021da7a002"
   },
   "outputs": [
    {
     "data": {
      "text/html": [
       "<div>\n",
       "<style scoped>\n",
       "    .dataframe tbody tr th:only-of-type {\n",
       "        vertical-align: middle;\n",
       "    }\n",
       "\n",
       "    .dataframe tbody tr th {\n",
       "        vertical-align: top;\n",
       "    }\n",
       "\n",
       "    .dataframe thead th {\n",
       "        text-align: right;\n",
       "    }\n",
       "</style>\n",
       "<table border=\"1\" class=\"dataframe\">\n",
       "  <thead>\n",
       "    <tr style=\"text-align: right;\">\n",
       "      <th>device_category</th>\n",
       "      <th>unknown</th>\n",
       "      <th>socket</th>\n",
       "      <th>baby_monitor</th>\n",
       "      <th>thermostat</th>\n",
       "      <th>watch</th>\n",
       "      <th>smoke_detector</th>\n",
       "      <th>motion_sensor</th>\n",
       "      <th>lights</th>\n",
       "      <th>water_sensor</th>\n",
       "    </tr>\n",
       "  </thead>\n",
       "  <tbody>\n",
       "    <tr>\n",
       "      <th>count</th>\n",
       "      <td>240</td>\n",
       "      <td>24</td>\n",
       "      <td>24</td>\n",
       "      <td>24</td>\n",
       "      <td>24</td>\n",
       "      <td>24</td>\n",
       "      <td>24</td>\n",
       "      <td>24</td>\n",
       "      <td>12</td>\n",
       "    </tr>\n",
       "  </tbody>\n",
       "</table>\n",
       "</div>"
      ],
      "text/plain": [
       "device_category  unknown  socket  baby_monitor  thermostat  watch  \\\n",
       "count                240      24            24          24     24   \n",
       "\n",
       "device_category  smoke_detector  motion_sensor  lights  water_sensor  \n",
       "count                        24             24      24            12  "
      ]
     },
     "execution_count": 74,
     "metadata": {},
     "output_type": "execute_result"
    }
   ],
   "source": [
    "pd.DataFrame(y_validation.value_counts()).transpose()"
   ]
  },
  {
   "cell_type": "code",
   "execution_count": 76,
   "metadata": {
    "colab": {
     "base_uri": "https://localhost:8080/",
     "height": 81
    },
    "id": "bd9GoHdAGr1E",
    "outputId": "d4ec8d17-4d37-420a-ac32-f0567d24400d"
   },
   "outputs": [
    {
     "data": {
      "text/html": [
       "<div>\n",
       "<style scoped>\n",
       "    .dataframe tbody tr th:only-of-type {\n",
       "        vertical-align: middle;\n",
       "    }\n",
       "\n",
       "    .dataframe tbody tr th {\n",
       "        vertical-align: top;\n",
       "    }\n",
       "\n",
       "    .dataframe thead th {\n",
       "        text-align: right;\n",
       "    }\n",
       "</style>\n",
       "<table border=\"1\" class=\"dataframe\">\n",
       "  <thead>\n",
       "    <tr style=\"text-align: right;\">\n",
       "      <th>device_category</th>\n",
       "      <th>unknown</th>\n",
       "      <th>baby_monitor</th>\n",
       "      <th>lights</th>\n",
       "      <th>socket</th>\n",
       "      <th>watch</th>\n",
       "      <th>motion_sensor</th>\n",
       "      <th>smoke_detector</th>\n",
       "      <th>thermostat</th>\n",
       "      <th>water_sensor</th>\n",
       "    </tr>\n",
       "  </thead>\n",
       "  <tbody>\n",
       "    <tr>\n",
       "      <th>count</th>\n",
       "      <td>160</td>\n",
       "      <td>16</td>\n",
       "      <td>16</td>\n",
       "      <td>16</td>\n",
       "      <td>16</td>\n",
       "      <td>16</td>\n",
       "      <td>16</td>\n",
       "      <td>16</td>\n",
       "      <td>8</td>\n",
       "    </tr>\n",
       "  </tbody>\n",
       "</table>\n",
       "</div>"
      ],
      "text/plain": [
       "device_category  unknown  baby_monitor  lights  socket  watch  motion_sensor  \\\n",
       "count                160            16      16      16     16             16   \n",
       "\n",
       "device_category  smoke_detector  thermostat  water_sensor  \n",
       "count                        16          16             8  "
      ]
     },
     "execution_count": 76,
     "metadata": {},
     "output_type": "execute_result"
    }
   ],
   "source": [
    "pd.DataFrame(y_test.value_counts()).transpose()"
   ]
  },
  {
   "cell_type": "markdown",
   "metadata": {
    "id": "5cLcCbCvKh4T"
   },
   "source": [
    "### Baseline Model\n",
    "A baseline model of a OneVsRestClassifier is used as benchmark to evaluate the other machine learning models under consideration."
   ]
  },
  {
   "cell_type": "code",
   "execution_count": 79,
   "metadata": {
    "id": "yYS4NWSXPgu8"
   },
   "outputs": [],
   "source": [
    "scaler = StandardScaler()\n",
    "X_train_scaled = scaler.fit_transform(X_train)\n",
    "X_validation_scaled = scaler.transform(X_validation)\n",
    "X_test_scaled = scaler.transform(X_test)\n",
    "\n",
    "lr = LogisticRegression(max_iter=5000)\n",
    "ovr = OneVsRestClassifier(lr).fit(X_train_scaled, y_train)"
   ]
  },
  {
   "cell_type": "code",
   "execution_count": 81,
   "metadata": {
    "id": "SUPh1Z7gQZD4"
   },
   "outputs": [],
   "source": [
    "predictions_v_series = predict_device_or_unknown(ovr, X_validation_scaled, threshold = 0.80)"
   ]
  },
  {
   "cell_type": "code",
   "execution_count": 83,
   "metadata": {
    "colab": {
     "base_uri": "https://localhost:8080/"
    },
    "id": "Fnkh6znfs47q",
    "outputId": "f1d11e1c-7a8f-44b7-c310-65b49e02954b"
   },
   "outputs": [
    {
     "name": "stdout",
     "output_type": "stream",
     "text": [
      "                precision    recall  f1-score   support\n",
      "\n",
      "  baby_monitor       0.33      0.92      0.49        24\n",
      "        lights       1.00      0.04      0.08        24\n",
      " motion_sensor       0.96      0.92      0.94        24\n",
      "smoke_detector       1.00      0.96      0.98        24\n",
      "        socket       1.00      0.12      0.22        24\n",
      "    thermostat       0.52      1.00      0.69        24\n",
      "       unknown       0.69      0.58      0.63       240\n",
      "         watch       0.40      0.92      0.56        24\n",
      "  water_sensor       1.00      0.08      0.15        12\n",
      "\n",
      "      accuracy                           0.61       420\n",
      "     macro avg       0.77      0.62      0.53       420\n",
      "  weighted avg       0.72      0.61      0.59       420\n",
      "\n"
     ]
    }
   ],
   "source": [
    "class_labels = get_all_class_labels(ovr)\n",
    "print(classification_report(y_validation, predictions_v_series, labels=class_labels))"
   ]
  },
  {
   "cell_type": "code",
   "execution_count": 89,
   "metadata": {
    "colab": {
     "base_uri": "https://localhost:8080/",
     "height": 577
    },
    "id": "WAwy1teAh2jx",
    "outputId": "9c1ac63b-9411-4f0c-a428-78ca5fc6a6c1"
   },
   "outputs": [
    {
     "data": {
      "image/png": "[encoded data removed]",
      "text/plain": [
       "<Figure size 600x600 with 2 Axes>"
      ]
     },
     "metadata": {},
     "output_type": "display_data"
    }
   ],
   "source": [
    "plot_confusion_matrix(y_validation, predictions_v_series, \"Baseline Model Confusion Matrix\")"
   ]
  },
  {
   "cell_type": "markdown",
   "metadata": {
    "id": "YJWqUPChEK46"
   },
   "source": [
    "#### Observations\n",
    "The IoT devices of lights, sockets and water sensors have a tendency to be misclassified as unknown."
   ]
  },
  {
   "cell_type": "markdown",
   "metadata": {
    "id": "U2QvJyPkl5RH"
   },
   "source": [
    "### Feature Analysis\n",
    "Analysis of features appears below to determine if low impact features can be excluded from machine learning models."
   ]
  },
  {
   "cell_type": "markdown",
   "metadata": {
    "id": "xuKCtUll3pCq"
   },
   "source": [
    "#### SelectKBest"
   ]
  },
  {
   "cell_type": "code",
   "execution_count": 94,
   "metadata": {
    "colab": {
     "base_uri": "https://localhost:8080/"
    },
    "id": "PZgH7ESiOLYq",
    "outputId": "f0505d71-ebb4-4312-ae87-4e1ed74ed6d3"
   },
   "outputs": [
    {
     "name": "stdout",
     "output_type": "stream",
     "text": [
      "X_kbest.shape: (1200, 253)\n",
      "y.shape: (1200,)\n"
     ]
    }
   ],
   "source": [
    "from sklearn.feature_selection import SelectKBest, mutual_info_classif\n",
    "\n",
    "all_columns_count = X_train.shape[1]\n",
    "select_k_best = SelectKBest(mutual_info_classif, k=all_columns_count).set_output(transform=\"pandas\")\n",
    "X_kbest = select_k_best.fit_transform(X_train, y_train)\n",
    "print(f'X_kbest.shape: {X_kbest.shape}')\n",
    "print(f'y.shape: {y_train.shape}')\n"
   ]
  },
  {
   "cell_type": "code",
   "execution_count": 96,
   "metadata": {
    "colab": {
     "base_uri": "https://localhost:8080/",
     "height": 130
    },
    "id": "hhoxXvkl3x_3",
    "outputId": "7e9e4748-210a-4f59-b28b-323d2bb2c89b"
   },
   "outputs": [
    {
     "data": {
      "text/html": [
       "<div>\n",
       "<style scoped>\n",
       "    .dataframe tbody tr th:only-of-type {\n",
       "        vertical-align: middle;\n",
       "    }\n",
       "\n",
       "    .dataframe tbody tr th {\n",
       "        vertical-align: top;\n",
       "    }\n",
       "\n",
       "    .dataframe thead th {\n",
       "        text-align: right;\n",
       "    }\n",
       "</style>\n",
       "<table border=\"1\" class=\"dataframe\">\n",
       "  <thead>\n",
       "    <tr style=\"text-align: right;\">\n",
       "      <th></th>\n",
       "      <th>ack</th>\n",
       "      <th>ack_A</th>\n",
       "      <th>ack_B</th>\n",
       "      <th>bytes</th>\n",
       "      <th>bytes_A</th>\n",
       "      <th>bytes_A_B_ratio</th>\n",
       "      <th>bytes_B</th>\n",
       "      <th>ds_field_B</th>\n",
       "      <th>duration</th>\n",
       "      <th>http_GET</th>\n",
       "      <th>...</th>\n",
       "      <th>subdomain_is_www.cloud</th>\n",
       "      <th>domain_is_dlink</th>\n",
       "      <th>domain_is_else</th>\n",
       "      <th>domain_is_google</th>\n",
       "      <th>domain_is_proteussensor</th>\n",
       "      <th>domain_is_unresolved</th>\n",
       "      <th>suffix_is_com</th>\n",
       "      <th>suffix_is_else</th>\n",
       "      <th>suffix_is_empty_char_value</th>\n",
       "      <th>suffix_is_unresolved</th>\n",
       "    </tr>\n",
       "  </thead>\n",
       "  <tbody>\n",
       "    <tr>\n",
       "      <th>458</th>\n",
       "      <td>25</td>\n",
       "      <td>13</td>\n",
       "      <td>12</td>\n",
       "      <td>5241</td>\n",
       "      <td>2574</td>\n",
       "      <td>0.965129</td>\n",
       "      <td>2667</td>\n",
       "      <td>0</td>\n",
       "      <td>5.3165</td>\n",
       "      <td>0</td>\n",
       "      <td>...</td>\n",
       "      <td>0</td>\n",
       "      <td>0</td>\n",
       "      <td>1</td>\n",
       "      <td>0</td>\n",
       "      <td>0</td>\n",
       "      <td>0</td>\n",
       "      <td>0</td>\n",
       "      <td>0</td>\n",
       "      <td>1</td>\n",
       "      <td>0</td>\n",
       "    </tr>\n",
       "  </tbody>\n",
       "</table>\n",
       "<p>1 rows × 253 columns</p>\n",
       "</div>"
      ],
      "text/plain": [
       "     ack  ack_A  ack_B  bytes  bytes_A  bytes_A_B_ratio  bytes_B  ds_field_B  \\\n",
       "458   25     13     12   5241     2574         0.965129     2667           0   \n",
       "\n",
       "     duration  http_GET  ...  subdomain_is_www.cloud  domain_is_dlink  \\\n",
       "458    5.3165         0  ...                       0                0   \n",
       "\n",
       "     domain_is_else  domain_is_google  domain_is_proteussensor  \\\n",
       "458               1                 0                        0   \n",
       "\n",
       "     domain_is_unresolved  suffix_is_com  suffix_is_else  \\\n",
       "458                     0              0               0   \n",
       "\n",
       "     suffix_is_empty_char_value  suffix_is_unresolved  \n",
       "458                           1                     0  \n",
       "\n",
       "[1 rows x 253 columns]"
      ]
     },
     "execution_count": 96,
     "metadata": {},
     "output_type": "execute_result"
    }
   ],
   "source": [
    "X_kbest.head(1)"
   ]
  },
  {
   "cell_type": "code",
   "execution_count": 98,
   "metadata": {
    "colab": {
     "base_uri": "https://localhost:8080/",
     "height": 504
    },
    "id": "7KuE4z_1-VM4",
    "outputId": "8bdd7aa3-7e2f-4bae-c519-82faf14eae86"
   },
   "outputs": [
    {
     "name": "stdout",
     "output_type": "stream",
     "text": [
      "<class 'numpy.ndarray'>\n"
     ]
    },
    {
     "data": {
      "image/png": "[encoded data removed]",
      "text/plain": [
       "<Figure size 1000x500 with 1 Axes>"
      ]
     },
     "metadata": {},
     "output_type": "display_data"
    }
   ],
   "source": [
    "plot_kbest_scores(select_k_best)"
   ]
  },
  {
   "cell_type": "markdown",
   "metadata": {
    "id": "SBBGSlYe-uDT"
   },
   "source": [
    "The plot `KBest Score Frequency and Cumulative Count` displays the distribution of KBest feature scores. The higher KBest score indicates a higher correlation of a feature to the target value. KBest scores can provide an indication of low value features that can be excluded from the model. The x-axis is reversed so the cumulative count represents the count of features from high to low KBest value."
   ]
  },
  {
   "cell_type": "code",
   "execution_count": 34,
   "metadata": {
    "id": "FL4KhVXb_q7V"
   },
   "outputs": [],
   "source": []
  }
 ],
 "metadata": {
  "colab": {
   "provenance": [],
   "toc_visible": true
  },
  "kernelspec": {
   "display_name": "Python 3 (ipykernel)",
   "language": "python",
   "name": "python3"
  },
  "language_info": {
   "codemirror_mode": {
    "name": "ipython",
    "version": 3
   },
   "file_extension": ".py",
   "mimetype": "text/x-python",
   "name": "python",
   "nbconvert_exporter": "python",
   "pygments_lexer": "ipython3",
   "version": "3.12.4"
  }
 },
 "nbformat": 4,
 "nbformat_minor": 4
}
